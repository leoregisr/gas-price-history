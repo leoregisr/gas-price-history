{
 "cells": [
  {
   "cell_type": "code",
   "execution_count": 117,
   "metadata": {},
   "outputs": [],
   "source": [
    "#Importa os pacotes\n",
    "import pandas as pd\n",
    "import numpy as np\n",
    "import os\n",
    "import matplotlib.pyplot as plt\n",
    "\n",
    "%matplotlib inline\n"
   ]
  },
  {
   "cell_type": "markdown",
   "metadata": {},
   "source": [
    "**1.Carregar dataset com os dados tratados e mesclados**"
   ]
  },
  {
   "cell_type": "code",
   "execution_count": 121,
   "metadata": {
    "scrolled": true
   },
   "outputs": [
    {
     "data": {
      "text/html": [
       "<div>\n",
       "<style scoped>\n",
       "    .dataframe tbody tr th:only-of-type {\n",
       "        vertical-align: middle;\n",
       "    }\n",
       "\n",
       "    .dataframe tbody tr th {\n",
       "        vertical-align: top;\n",
       "    }\n",
       "\n",
       "    .dataframe thead th {\n",
       "        text-align: right;\n",
       "    }\n",
       "</style>\n",
       "<table border=\"1\" class=\"dataframe\">\n",
       "  <thead>\n",
       "    <tr style=\"text-align: right;\">\n",
       "      <th></th>\n",
       "      <th>Produto</th>\n",
       "      <th>Data_Coleta</th>\n",
       "      <th>Valor_Venda_Litro_Em_Reais</th>\n",
       "      <th>Ano_Coleta</th>\n",
       "      <th>Mes_Coleta</th>\n",
       "      <th>Dia_Coleta</th>\n",
       "      <th>Mes_Ano_Coleta</th>\n",
       "      <th>Nome_Regiao</th>\n",
       "      <th>Municipio</th>\n",
       "    </tr>\n",
       "  </thead>\n",
       "  <tbody>\n",
       "    <tr>\n",
       "      <th>0</th>\n",
       "      <td>DIESEL S10</td>\n",
       "      <td>2016-02-01</td>\n",
       "      <td>3.237</td>\n",
       "      <td>2016</td>\n",
       "      <td>2</td>\n",
       "      <td>1</td>\n",
       "      <td>2016-02</td>\n",
       "      <td>Sul de Minas</td>\n",
       "      <td>ALFENAS</td>\n",
       "    </tr>\n",
       "    <tr>\n",
       "      <th>1</th>\n",
       "      <td>DIESEL S10</td>\n",
       "      <td>2016-05-02</td>\n",
       "      <td>3.237</td>\n",
       "      <td>2016</td>\n",
       "      <td>5</td>\n",
       "      <td>2</td>\n",
       "      <td>2016-05</td>\n",
       "      <td>Sul de Minas</td>\n",
       "      <td>ALFENAS</td>\n",
       "    </tr>\n",
       "    <tr>\n",
       "      <th>2</th>\n",
       "      <td>DIESEL S10</td>\n",
       "      <td>2016-01-04</td>\n",
       "      <td>3.197</td>\n",
       "      <td>2016</td>\n",
       "      <td>1</td>\n",
       "      <td>4</td>\n",
       "      <td>2016-01</td>\n",
       "      <td>Sul de Minas</td>\n",
       "      <td>ALFENAS</td>\n",
       "    </tr>\n",
       "    <tr>\n",
       "      <th>3</th>\n",
       "      <td>DIESEL S10</td>\n",
       "      <td>2016-04-04</td>\n",
       "      <td>3.237</td>\n",
       "      <td>2016</td>\n",
       "      <td>4</td>\n",
       "      <td>4</td>\n",
       "      <td>2016-04</td>\n",
       "      <td>Sul de Minas</td>\n",
       "      <td>ALFENAS</td>\n",
       "    </tr>\n",
       "    <tr>\n",
       "      <th>4</th>\n",
       "      <td>DIESEL S10</td>\n",
       "      <td>2016-06-06</td>\n",
       "      <td>3.209</td>\n",
       "      <td>2016</td>\n",
       "      <td>6</td>\n",
       "      <td>6</td>\n",
       "      <td>2016-06</td>\n",
       "      <td>Sul de Minas</td>\n",
       "      <td>ALFENAS</td>\n",
       "    </tr>\n",
       "  </tbody>\n",
       "</table>\n",
       "</div>"
      ],
      "text/plain": [
       "      Produto Data_Coleta  Valor_Venda_Litro_Em_Reais  Ano_Coleta  Mes_Coleta  \\\n",
       "0  DIESEL S10  2016-02-01                       3.237        2016           2   \n",
       "1  DIESEL S10  2016-05-02                       3.237        2016           5   \n",
       "2  DIESEL S10  2016-01-04                       3.197        2016           1   \n",
       "3  DIESEL S10  2016-04-04                       3.237        2016           4   \n",
       "4  DIESEL S10  2016-06-06                       3.209        2016           6   \n",
       "\n",
       "   Dia_Coleta Mes_Ano_Coleta   Nome_Regiao Municipio  \n",
       "0           1        2016-02  Sul de Minas   ALFENAS  \n",
       "1           2        2016-05  Sul de Minas   ALFENAS  \n",
       "2           4        2016-01  Sul de Minas   ALFENAS  \n",
       "3           4        2016-04  Sul de Minas   ALFENAS  \n",
       "4           6        2016-06  Sul de Minas   ALFENAS  "
      ]
     },
     "execution_count": 121,
     "metadata": {},
     "output_type": "execute_result"
    }
   ],
   "source": [
    "caminho_arquivo_tratado = \"./v2/historico_precos_com_regioes.zip\"\n",
    "df = pd.read_csv(caminho_arquivo_tratado, parse_dates=[\"Data_Coleta\"])\n",
    "df.head()"
   ]
  },
  {
   "cell_type": "markdown",
   "metadata": {},
   "source": [
    "**2.Informações do dataframe**"
   ]
  },
  {
   "cell_type": "code",
   "execution_count": 112,
   "metadata": {},
   "outputs": [
    {
     "name": "stdout",
     "output_type": "stream",
     "text": [
      "<class 'pandas.core.frame.DataFrame'>\n",
      "RangeIndex: 465446 entries, 0 to 465445\n",
      "Data columns (total 8 columns):\n",
      " #   Column                      Non-Null Count   Dtype         \n",
      "---  ------                      --------------   -----         \n",
      " 0   Produto                     465446 non-null  object        \n",
      " 1   Data_Coleta                 465446 non-null  datetime64[ns]\n",
      " 2   Valor_Venda_Litro_Em_Reais  465446 non-null  float64       \n",
      " 3   Ano_Coleta                  465446 non-null  int64         \n",
      " 4   Mes_Coleta                  465446 non-null  int64         \n",
      " 5   Dia_Coleta                  465446 non-null  int64         \n",
      " 6   Nome_Regiao                 465446 non-null  object        \n",
      " 7   Municipio                   465446 non-null  object        \n",
      "dtypes: datetime64[ns](1), float64(1), int64(3), object(3)\n",
      "memory usage: 28.4+ MB\n"
     ]
    }
   ],
   "source": [
    "df.info()"
   ]
  },
  {
   "cell_type": "markdown",
   "metadata": {},
   "source": [
    "**3.Resumo do dataframe**"
   ]
  },
  {
   "cell_type": "code",
   "execution_count": 122,
   "metadata": {
    "scrolled": true
   },
   "outputs": [
    {
     "data": {
      "text/html": [
       "<div>\n",
       "<style scoped>\n",
       "    .dataframe tbody tr th:only-of-type {\n",
       "        vertical-align: middle;\n",
       "    }\n",
       "\n",
       "    .dataframe tbody tr th {\n",
       "        vertical-align: top;\n",
       "    }\n",
       "\n",
       "    .dataframe thead th {\n",
       "        text-align: right;\n",
       "    }\n",
       "</style>\n",
       "<table border=\"1\" class=\"dataframe\">\n",
       "  <thead>\n",
       "    <tr style=\"text-align: right;\">\n",
       "      <th></th>\n",
       "      <th>Produto</th>\n",
       "      <th>Data_Coleta</th>\n",
       "      <th>Valor_Venda_Litro_Em_Reais</th>\n",
       "      <th>Ano_Coleta</th>\n",
       "      <th>Mes_Coleta</th>\n",
       "      <th>Dia_Coleta</th>\n",
       "      <th>Mes_Ano_Coleta</th>\n",
       "      <th>Nome_Regiao</th>\n",
       "      <th>Municipio</th>\n",
       "    </tr>\n",
       "  </thead>\n",
       "  <tbody>\n",
       "    <tr>\n",
       "      <th>count</th>\n",
       "      <td>465446</td>\n",
       "      <td>465446</td>\n",
       "      <td>465446.000000</td>\n",
       "      <td>465446.000000</td>\n",
       "      <td>465446.000000</td>\n",
       "      <td>465446.000000</td>\n",
       "      <td>465446</td>\n",
       "      <td>465446</td>\n",
       "      <td>465446</td>\n",
       "    </tr>\n",
       "    <tr>\n",
       "      <th>unique</th>\n",
       "      <td>5</td>\n",
       "      <td>1003</td>\n",
       "      <td>NaN</td>\n",
       "      <td>NaN</td>\n",
       "      <td>NaN</td>\n",
       "      <td>NaN</td>\n",
       "      <td>60</td>\n",
       "      <td>10</td>\n",
       "      <td>64</td>\n",
       "    </tr>\n",
       "    <tr>\n",
       "      <th>top</th>\n",
       "      <td>ETANOL</td>\n",
       "      <td>2020-08-17 00:00:00</td>\n",
       "      <td>NaN</td>\n",
       "      <td>NaN</td>\n",
       "      <td>NaN</td>\n",
       "      <td>NaN</td>\n",
       "      <td>2017-05</td>\n",
       "      <td>Central</td>\n",
       "      <td>UBERLÂNDIA</td>\n",
       "    </tr>\n",
       "    <tr>\n",
       "      <th>freq</th>\n",
       "      <td>137751</td>\n",
       "      <td>1668</td>\n",
       "      <td>NaN</td>\n",
       "      <td>NaN</td>\n",
       "      <td>NaN</td>\n",
       "      <td>NaN</td>\n",
       "      <td>10058</td>\n",
       "      <td>130484</td>\n",
       "      <td>27349</td>\n",
       "    </tr>\n",
       "    <tr>\n",
       "      <th>first</th>\n",
       "      <td>NaN</td>\n",
       "      <td>2016-01-04 00:00:00</td>\n",
       "      <td>NaN</td>\n",
       "      <td>NaN</td>\n",
       "      <td>NaN</td>\n",
       "      <td>NaN</td>\n",
       "      <td>NaN</td>\n",
       "      <td>NaN</td>\n",
       "      <td>NaN</td>\n",
       "    </tr>\n",
       "    <tr>\n",
       "      <th>last</th>\n",
       "      <td>NaN</td>\n",
       "      <td>2021-01-27 00:00:00</td>\n",
       "      <td>NaN</td>\n",
       "      <td>NaN</td>\n",
       "      <td>NaN</td>\n",
       "      <td>NaN</td>\n",
       "      <td>NaN</td>\n",
       "      <td>NaN</td>\n",
       "      <td>NaN</td>\n",
       "    </tr>\n",
       "    <tr>\n",
       "      <th>mean</th>\n",
       "      <td>NaN</td>\n",
       "      <td>NaN</td>\n",
       "      <td>3.542522</td>\n",
       "      <td>2017.899679</td>\n",
       "      <td>6.034833</td>\n",
       "      <td>15.622145</td>\n",
       "      <td>NaN</td>\n",
       "      <td>NaN</td>\n",
       "      <td>NaN</td>\n",
       "    </tr>\n",
       "    <tr>\n",
       "      <th>std</th>\n",
       "      <td>NaN</td>\n",
       "      <td>NaN</td>\n",
       "      <td>0.649963</td>\n",
       "      <td>1.387501</td>\n",
       "      <td>3.375910</td>\n",
       "      <td>8.723410</td>\n",
       "      <td>NaN</td>\n",
       "      <td>NaN</td>\n",
       "      <td>NaN</td>\n",
       "    </tr>\n",
       "    <tr>\n",
       "      <th>min</th>\n",
       "      <td>NaN</td>\n",
       "      <td>NaN</td>\n",
       "      <td>1.999000</td>\n",
       "      <td>2016.000000</td>\n",
       "      <td>1.000000</td>\n",
       "      <td>1.000000</td>\n",
       "      <td>NaN</td>\n",
       "      <td>NaN</td>\n",
       "      <td>NaN</td>\n",
       "    </tr>\n",
       "    <tr>\n",
       "      <th>25%</th>\n",
       "      <td>NaN</td>\n",
       "      <td>NaN</td>\n",
       "      <td>3.040000</td>\n",
       "      <td>2017.000000</td>\n",
       "      <td>3.000000</td>\n",
       "      <td>8.000000</td>\n",
       "      <td>NaN</td>\n",
       "      <td>NaN</td>\n",
       "      <td>NaN</td>\n",
       "    </tr>\n",
       "    <tr>\n",
       "      <th>50%</th>\n",
       "      <td>NaN</td>\n",
       "      <td>NaN</td>\n",
       "      <td>3.449000</td>\n",
       "      <td>2018.000000</td>\n",
       "      <td>6.000000</td>\n",
       "      <td>16.000000</td>\n",
       "      <td>NaN</td>\n",
       "      <td>NaN</td>\n",
       "      <td>NaN</td>\n",
       "    </tr>\n",
       "    <tr>\n",
       "      <th>75%</th>\n",
       "      <td>NaN</td>\n",
       "      <td>NaN</td>\n",
       "      <td>3.896000</td>\n",
       "      <td>2019.000000</td>\n",
       "      <td>9.000000</td>\n",
       "      <td>23.000000</td>\n",
       "      <td>NaN</td>\n",
       "      <td>NaN</td>\n",
       "      <td>NaN</td>\n",
       "    </tr>\n",
       "    <tr>\n",
       "      <th>max</th>\n",
       "      <td>NaN</td>\n",
       "      <td>NaN</td>\n",
       "      <td>5.799000</td>\n",
       "      <td>2021.000000</td>\n",
       "      <td>12.000000</td>\n",
       "      <td>31.000000</td>\n",
       "      <td>NaN</td>\n",
       "      <td>NaN</td>\n",
       "      <td>NaN</td>\n",
       "    </tr>\n",
       "  </tbody>\n",
       "</table>\n",
       "</div>"
      ],
      "text/plain": [
       "       Produto          Data_Coleta  Valor_Venda_Litro_Em_Reais  \\\n",
       "count   465446               465446               465446.000000   \n",
       "unique       5                 1003                         NaN   \n",
       "top     ETANOL  2020-08-17 00:00:00                         NaN   \n",
       "freq    137751                 1668                         NaN   \n",
       "first      NaN  2016-01-04 00:00:00                         NaN   \n",
       "last       NaN  2021-01-27 00:00:00                         NaN   \n",
       "mean       NaN                  NaN                    3.542522   \n",
       "std        NaN                  NaN                    0.649963   \n",
       "min        NaN                  NaN                    1.999000   \n",
       "25%        NaN                  NaN                    3.040000   \n",
       "50%        NaN                  NaN                    3.449000   \n",
       "75%        NaN                  NaN                    3.896000   \n",
       "max        NaN                  NaN                    5.799000   \n",
       "\n",
       "           Ano_Coleta     Mes_Coleta     Dia_Coleta Mes_Ano_Coleta  \\\n",
       "count   465446.000000  465446.000000  465446.000000         465446   \n",
       "unique            NaN            NaN            NaN             60   \n",
       "top               NaN            NaN            NaN        2017-05   \n",
       "freq              NaN            NaN            NaN          10058   \n",
       "first             NaN            NaN            NaN            NaN   \n",
       "last              NaN            NaN            NaN            NaN   \n",
       "mean      2017.899679       6.034833      15.622145            NaN   \n",
       "std          1.387501       3.375910       8.723410            NaN   \n",
       "min       2016.000000       1.000000       1.000000            NaN   \n",
       "25%       2017.000000       3.000000       8.000000            NaN   \n",
       "50%       2018.000000       6.000000      16.000000            NaN   \n",
       "75%       2019.000000       9.000000      23.000000            NaN   \n",
       "max       2021.000000      12.000000      31.000000            NaN   \n",
       "\n",
       "       Nome_Regiao   Municipio  \n",
       "count       465446      465446  \n",
       "unique          10          64  \n",
       "top        Central  UBERLÂNDIA  \n",
       "freq        130484       27349  \n",
       "first          NaN         NaN  \n",
       "last           NaN         NaN  \n",
       "mean           NaN         NaN  \n",
       "std            NaN         NaN  \n",
       "min            NaN         NaN  \n",
       "25%            NaN         NaN  \n",
       "50%            NaN         NaN  \n",
       "75%            NaN         NaN  \n",
       "max            NaN         NaN  "
      ]
     },
     "execution_count": 122,
     "metadata": {},
     "output_type": "execute_result"
    }
   ],
   "source": [
    "df.describe(include=\"all\")"
   ]
  },
  {
   "cell_type": "markdown",
   "metadata": {},
   "source": [
    "**4.Analise Univariada**"
   ]
  },
  {
   "cell_type": "markdown",
   "metadata": {},
   "source": [
    "**4.0 Funcoes**"
   ]
  },
  {
   "cell_type": "markdown",
   "metadata": {},
   "source": [
    "**4.0.1 Tabela de Frequencia**"
   ]
  },
  {
   "cell_type": "code",
   "execution_count": 131,
   "metadata": {},
   "outputs": [],
   "source": [
    "def frequency_table(df, colname):\n",
    "    grouped_series = df.groupby(colname).size()\n",
    "    grouped_series.name = \"Freq_Absoluta\"\n",
    "    df_frequency = grouped_series.to_frame()\n",
    "    df_frequency[\"Freq_Relativa\"] = df_frequency[\"Freq_Absoluta\"] / len(df)\n",
    "    df_frequency[\"Freq_Percentual\"] = df_frequency[\"Freq_Relativa\"] * 100.0\n",
    "    return df_frequency"
   ]
  },
  {
   "cell_type": "markdown",
   "metadata": {},
   "source": [
    "**4.0.2 Grafico de Frequencia Relativa**"
   ]
  },
  {
   "cell_type": "code",
   "execution_count": 260,
   "metadata": {},
   "outputs": [],
   "source": [
    "def plot_relative_frequency_chart(df):    \n",
    "    freq_fig = plt.figure(figsize=(15,5))\n",
    "    freq_chart = plt.bar(df.index, df[\"Freq_Relativa\"], figure=freq_fig)\n",
    "    plt.grid()"
   ]
  },
  {
   "cell_type": "markdown",
   "metadata": {},
   "source": [
    "**4.1 Produto**"
   ]
  },
  {
   "cell_type": "markdown",
   "metadata": {},
   "source": [
    "**4.1.1 Tabela de Frequencia**"
   ]
  },
  {
   "cell_type": "code",
   "execution_count": 256,
   "metadata": {
    "scrolled": true
   },
   "outputs": [
    {
     "data": {
      "text/html": [
       "<div>\n",
       "<style scoped>\n",
       "    .dataframe tbody tr th:only-of-type {\n",
       "        vertical-align: middle;\n",
       "    }\n",
       "\n",
       "    .dataframe tbody tr th {\n",
       "        vertical-align: top;\n",
       "    }\n",
       "\n",
       "    .dataframe thead th {\n",
       "        text-align: right;\n",
       "    }\n",
       "</style>\n",
       "<table border=\"1\" class=\"dataframe\">\n",
       "  <thead>\n",
       "    <tr style=\"text-align: right;\">\n",
       "      <th></th>\n",
       "      <th>Freq_Absoluta</th>\n",
       "      <th>Freq_Relativa</th>\n",
       "      <th>Freq_Percentual</th>\n",
       "    </tr>\n",
       "    <tr>\n",
       "      <th>Produto</th>\n",
       "      <th></th>\n",
       "      <th></th>\n",
       "      <th></th>\n",
       "    </tr>\n",
       "  </thead>\n",
       "  <tbody>\n",
       "    <tr>\n",
       "      <th>DIESEL</th>\n",
       "      <td>92279</td>\n",
       "      <td>0.198259</td>\n",
       "      <td>19.825930</td>\n",
       "    </tr>\n",
       "    <tr>\n",
       "      <th>DIESEL S10</th>\n",
       "      <td>97889</td>\n",
       "      <td>0.210312</td>\n",
       "      <td>21.031226</td>\n",
       "    </tr>\n",
       "    <tr>\n",
       "      <th>ETANOL</th>\n",
       "      <td>137751</td>\n",
       "      <td>0.295955</td>\n",
       "      <td>29.595485</td>\n",
       "    </tr>\n",
       "    <tr>\n",
       "      <th>GASOLINA</th>\n",
       "      <td>136154</td>\n",
       "      <td>0.292524</td>\n",
       "      <td>29.252373</td>\n",
       "    </tr>\n",
       "    <tr>\n",
       "      <th>GNV</th>\n",
       "      <td>1373</td>\n",
       "      <td>0.002950</td>\n",
       "      <td>0.294986</td>\n",
       "    </tr>\n",
       "  </tbody>\n",
       "</table>\n",
       "</div>"
      ],
      "text/plain": [
       "            Freq_Absoluta  Freq_Relativa  Freq_Percentual\n",
       "Produto                                                  \n",
       "DIESEL              92279       0.198259        19.825930\n",
       "DIESEL S10          97889       0.210312        21.031226\n",
       "ETANOL             137751       0.295955        29.595485\n",
       "GASOLINA           136154       0.292524        29.252373\n",
       "GNV                  1373       0.002950         0.294986"
      ]
     },
     "execution_count": 256,
     "metadata": {},
     "output_type": "execute_result"
    }
   ],
   "source": [
    "df_produto = frequency_table(df, \"Produto\")\n",
    "df_produto"
   ]
  },
  {
   "cell_type": "markdown",
   "metadata": {},
   "source": [
    "**4.1.2 Grafico de frequencia relativa**"
   ]
  },
  {
   "cell_type": "code",
   "execution_count": 261,
   "metadata": {
    "scrolled": true
   },
   "outputs": [
    {
     "data": {
      "image/png": "[encoded data removed]",
      "text/plain": [
       "<Figure size 1080x360 with 1 Axes>"
      ]
     },
     "metadata": {
      "needs_background": "light"
     },
     "output_type": "display_data"
    }
   ],
   "source": [
    "plot_relative_frequency_chart(df_produto)"
   ]
  },
  {
   "cell_type": "markdown",
   "metadata": {},
   "source": [
    "**4.2 Ano Coleta**"
   ]
  },
  {
   "cell_type": "markdown",
   "metadata": {},
   "source": [
    "**4.2.1 Tabela de Frequencia**"
   ]
  },
  {
   "cell_type": "code",
   "execution_count": 142,
   "metadata": {},
   "outputs": [
    {
     "data": {
      "text/html": [
       "<div>\n",
       "<style scoped>\n",
       "    .dataframe tbody tr th:only-of-type {\n",
       "        vertical-align: middle;\n",
       "    }\n",
       "\n",
       "    .dataframe tbody tr th {\n",
       "        vertical-align: top;\n",
       "    }\n",
       "\n",
       "    .dataframe thead th {\n",
       "        text-align: right;\n",
       "    }\n",
       "</style>\n",
       "<table border=\"1\" class=\"dataframe\">\n",
       "  <thead>\n",
       "    <tr style=\"text-align: right;\">\n",
       "      <th></th>\n",
       "      <th>Freq_Absoluta</th>\n",
       "      <th>Freq_Relativa</th>\n",
       "      <th>Freq_Percentual</th>\n",
       "    </tr>\n",
       "    <tr>\n",
       "      <th>Ano_Coleta</th>\n",
       "      <th></th>\n",
       "      <th></th>\n",
       "      <th></th>\n",
       "    </tr>\n",
       "  </thead>\n",
       "  <tbody>\n",
       "    <tr>\n",
       "      <th>2016</th>\n",
       "      <td>105829</td>\n",
       "      <td>0.227371</td>\n",
       "      <td>22.737117</td>\n",
       "    </tr>\n",
       "    <tr>\n",
       "      <th>2017</th>\n",
       "      <td>83149</td>\n",
       "      <td>0.178644</td>\n",
       "      <td>17.864371</td>\n",
       "    </tr>\n",
       "    <tr>\n",
       "      <th>2018</th>\n",
       "      <td>100060</td>\n",
       "      <td>0.214977</td>\n",
       "      <td>21.497660</td>\n",
       "    </tr>\n",
       "    <tr>\n",
       "      <th>2019</th>\n",
       "      <td>106079</td>\n",
       "      <td>0.227908</td>\n",
       "      <td>22.790829</td>\n",
       "    </tr>\n",
       "    <tr>\n",
       "      <th>2020</th>\n",
       "      <td>68953</td>\n",
       "      <td>0.148144</td>\n",
       "      <td>14.814393</td>\n",
       "    </tr>\n",
       "    <tr>\n",
       "      <th>2021</th>\n",
       "      <td>1376</td>\n",
       "      <td>0.002956</td>\n",
       "      <td>0.295630</td>\n",
       "    </tr>\n",
       "  </tbody>\n",
       "</table>\n",
       "</div>"
      ],
      "text/plain": [
       "            Freq_Absoluta  Freq_Relativa  Freq_Percentual\n",
       "Ano_Coleta                                               \n",
       "2016               105829       0.227371        22.737117\n",
       "2017                83149       0.178644        17.864371\n",
       "2018               100060       0.214977        21.497660\n",
       "2019               106079       0.227908        22.790829\n",
       "2020                68953       0.148144        14.814393\n",
       "2021                 1376       0.002956         0.295630"
      ]
     },
     "execution_count": 142,
     "metadata": {},
     "output_type": "execute_result"
    }
   ],
   "source": [
    "df_ano_coleta = frequency_table(df, \"Ano_Coleta\")\n",
    "df_ano_coleta"
   ]
  },
  {
   "cell_type": "markdown",
   "metadata": {},
   "source": [
    "**4.2.2 Grafico de frequencia relativa**"
   ]
  },
  {
   "cell_type": "code",
   "execution_count": 143,
   "metadata": {
    "scrolled": true
   },
   "outputs": [
    {
     "data": {
      "image/png": "[encoded data removed]",
      "text/plain": [
       "<Figure size 1080x360 with 1 Axes>"
      ]
     },
     "metadata": {
      "needs_background": "light"
     },
     "output_type": "display_data"
    }
   ],
   "source": [
    "plot_relative_frequency_chart(df_ano_coleta)"
   ]
  },
  {
   "cell_type": "markdown",
   "metadata": {},
   "source": [
    "**4.3 Regiao de Planejamento**"
   ]
  },
  {
   "cell_type": "markdown",
   "metadata": {},
   "source": [
    "**4.3.1 Tabela de Frequencia**"
   ]
  },
  {
   "cell_type": "code",
   "execution_count": 144,
   "metadata": {},
   "outputs": [
    {
     "data": {
      "text/html": [
       "<div>\n",
       "<style scoped>\n",
       "    .dataframe tbody tr th:only-of-type {\n",
       "        vertical-align: middle;\n",
       "    }\n",
       "\n",
       "    .dataframe tbody tr th {\n",
       "        vertical-align: top;\n",
       "    }\n",
       "\n",
       "    .dataframe thead th {\n",
       "        text-align: right;\n",
       "    }\n",
       "</style>\n",
       "<table border=\"1\" class=\"dataframe\">\n",
       "  <thead>\n",
       "    <tr style=\"text-align: right;\">\n",
       "      <th></th>\n",
       "      <th>Freq_Absoluta</th>\n",
       "      <th>Freq_Relativa</th>\n",
       "      <th>Freq_Percentual</th>\n",
       "    </tr>\n",
       "    <tr>\n",
       "      <th>Nome_Regiao</th>\n",
       "      <th></th>\n",
       "      <th></th>\n",
       "      <th></th>\n",
       "    </tr>\n",
       "  </thead>\n",
       "  <tbody>\n",
       "    <tr>\n",
       "      <th>Alto Paranaíba</th>\n",
       "      <td>29561</td>\n",
       "      <td>0.063511</td>\n",
       "      <td>6.351113</td>\n",
       "    </tr>\n",
       "    <tr>\n",
       "      <th>Central</th>\n",
       "      <td>130484</td>\n",
       "      <td>0.280342</td>\n",
       "      <td>28.034187</td>\n",
       "    </tr>\n",
       "    <tr>\n",
       "      <th>Centro-Oeste</th>\n",
       "      <td>35880</td>\n",
       "      <td>0.077087</td>\n",
       "      <td>7.708735</td>\n",
       "    </tr>\n",
       "    <tr>\n",
       "      <th>Jequitinhonha-Mucuri</th>\n",
       "      <td>8427</td>\n",
       "      <td>0.018105</td>\n",
       "      <td>1.810522</td>\n",
       "    </tr>\n",
       "    <tr>\n",
       "      <th>Mata</th>\n",
       "      <td>40586</td>\n",
       "      <td>0.087198</td>\n",
       "      <td>8.719809</td>\n",
       "    </tr>\n",
       "    <tr>\n",
       "      <th>Noroeste</th>\n",
       "      <td>19587</td>\n",
       "      <td>0.042082</td>\n",
       "      <td>4.208222</td>\n",
       "    </tr>\n",
       "    <tr>\n",
       "      <th>Norte</th>\n",
       "      <td>21722</td>\n",
       "      <td>0.046669</td>\n",
       "      <td>4.666922</td>\n",
       "    </tr>\n",
       "    <tr>\n",
       "      <th>Rio Doce</th>\n",
       "      <td>34049</td>\n",
       "      <td>0.073153</td>\n",
       "      <td>7.315349</td>\n",
       "    </tr>\n",
       "    <tr>\n",
       "      <th>Sul de Minas</th>\n",
       "      <td>68416</td>\n",
       "      <td>0.146990</td>\n",
       "      <td>14.699020</td>\n",
       "    </tr>\n",
       "    <tr>\n",
       "      <th>Triângulo</th>\n",
       "      <td>76734</td>\n",
       "      <td>0.164861</td>\n",
       "      <td>16.486123</td>\n",
       "    </tr>\n",
       "  </tbody>\n",
       "</table>\n",
       "</div>"
      ],
      "text/plain": [
       "                      Freq_Absoluta  Freq_Relativa  Freq_Percentual\n",
       "Nome_Regiao                                                        \n",
       "Alto Paranaíba                29561       0.063511         6.351113\n",
       "Central                      130484       0.280342        28.034187\n",
       "Centro-Oeste                  35880       0.077087         7.708735\n",
       "Jequitinhonha-Mucuri           8427       0.018105         1.810522\n",
       "Mata                          40586       0.087198         8.719809\n",
       "Noroeste                      19587       0.042082         4.208222\n",
       "Norte                         21722       0.046669         4.666922\n",
       "Rio Doce                      34049       0.073153         7.315349\n",
       "Sul de Minas                  68416       0.146990        14.699020\n",
       "Triângulo                     76734       0.164861        16.486123"
      ]
     },
     "execution_count": 144,
     "metadata": {},
     "output_type": "execute_result"
    }
   ],
   "source": [
    "df_regiao = frequency_table(df, \"Nome_Regiao\")\n",
    "df_regiao"
   ]
  },
  {
   "cell_type": "markdown",
   "metadata": {},
   "source": [
    "**4.3.2 Grafico de Frequencia relativa**"
   ]
  },
  {
   "cell_type": "code",
   "execution_count": 145,
   "metadata": {},
   "outputs": [
    {
     "data": {
      "image/png": "[encoded data removed]",
      "text/plain": [
       "<Figure size 1080x360 with 1 Axes>"
      ]
     },
     "metadata": {
      "needs_background": "light"
     },
     "output_type": "display_data"
    }
   ],
   "source": [
    "plot_relative_frequency_chart(df_regiao)"
   ]
  },
  {
   "cell_type": "markdown",
   "metadata": {},
   "source": [
    "**4.4. Valor Venda**"
   ]
  },
  {
   "cell_type": "markdown",
   "metadata": {},
   "source": [
    "**4.4.1 Quebra em classes de valores**"
   ]
  },
  {
   "cell_type": "code",
   "execution_count": 241,
   "metadata": {},
   "outputs": [],
   "source": [
    "#Quebra em 10 classes\n",
    "df[\"Classe_Venda_Litro_Em_Reais\"] = pd.cut(df[\"Valor_Venda_Litro_Em_Reais\"], 10)"
   ]
  },
  {
   "cell_type": "markdown",
   "metadata": {},
   "source": [
    "**4.4.2 Tabela de Frequencia**"
   ]
  },
  {
   "cell_type": "code",
   "execution_count": 247,
   "metadata": {},
   "outputs": [
    {
     "data": {
      "text/html": [
       "<div>\n",
       "<style scoped>\n",
       "    .dataframe tbody tr th:only-of-type {\n",
       "        vertical-align: middle;\n",
       "    }\n",
       "\n",
       "    .dataframe tbody tr th {\n",
       "        vertical-align: top;\n",
       "    }\n",
       "\n",
       "    .dataframe thead th {\n",
       "        text-align: right;\n",
       "    }\n",
       "</style>\n",
       "<table border=\"1\" class=\"dataframe\">\n",
       "  <thead>\n",
       "    <tr style=\"text-align: right;\">\n",
       "      <th></th>\n",
       "      <th>Freq_Absoluta</th>\n",
       "      <th>Freq_Relativa</th>\n",
       "      <th>Freq_Percentual</th>\n",
       "    </tr>\n",
       "    <tr>\n",
       "      <th>Classe_Venda_Litro_Em_Reais</th>\n",
       "      <th></th>\n",
       "      <th></th>\n",
       "      <th></th>\n",
       "    </tr>\n",
       "  </thead>\n",
       "  <tbody>\n",
       "    <tr>\n",
       "      <th>(1.995, 2.379]</th>\n",
       "      <td>2126</td>\n",
       "      <td>0.004568</td>\n",
       "      <td>0.456766</td>\n",
       "    </tr>\n",
       "    <tr>\n",
       "      <th>(2.379, 2.759]</th>\n",
       "      <td>32269</td>\n",
       "      <td>0.069329</td>\n",
       "      <td>6.932920</td>\n",
       "    </tr>\n",
       "    <tr>\n",
       "      <th>(2.759, 3.139]</th>\n",
       "      <td>120693</td>\n",
       "      <td>0.259306</td>\n",
       "      <td>25.930613</td>\n",
       "    </tr>\n",
       "    <tr>\n",
       "      <th>(3.139, 3.519]</th>\n",
       "      <td>96649</td>\n",
       "      <td>0.207648</td>\n",
       "      <td>20.764815</td>\n",
       "    </tr>\n",
       "    <tr>\n",
       "      <th>(3.519, 3.899]</th>\n",
       "      <td>106182</td>\n",
       "      <td>0.228130</td>\n",
       "      <td>22.812958</td>\n",
       "    </tr>\n",
       "    <tr>\n",
       "      <th>(3.899, 4.279]</th>\n",
       "      <td>33317</td>\n",
       "      <td>0.071581</td>\n",
       "      <td>7.158081</td>\n",
       "    </tr>\n",
       "    <tr>\n",
       "      <th>(4.279, 4.659]</th>\n",
       "      <td>28697</td>\n",
       "      <td>0.061655</td>\n",
       "      <td>6.165484</td>\n",
       "    </tr>\n",
       "    <tr>\n",
       "      <th>(4.659, 5.039]</th>\n",
       "      <td>42165</td>\n",
       "      <td>0.090591</td>\n",
       "      <td>9.059053</td>\n",
       "    </tr>\n",
       "    <tr>\n",
       "      <th>(5.039, 5.419]</th>\n",
       "      <td>3326</td>\n",
       "      <td>0.007146</td>\n",
       "      <td>0.714583</td>\n",
       "    </tr>\n",
       "    <tr>\n",
       "      <th>(5.419, 5.799]</th>\n",
       "      <td>22</td>\n",
       "      <td>0.000047</td>\n",
       "      <td>0.004727</td>\n",
       "    </tr>\n",
       "  </tbody>\n",
       "</table>\n",
       "</div>"
      ],
      "text/plain": [
       "                             Freq_Absoluta  Freq_Relativa  Freq_Percentual\n",
       "Classe_Venda_Litro_Em_Reais                                               \n",
       "(1.995, 2.379]                        2126       0.004568         0.456766\n",
       "(2.379, 2.759]                       32269       0.069329         6.932920\n",
       "(2.759, 3.139]                      120693       0.259306        25.930613\n",
       "(3.139, 3.519]                       96649       0.207648        20.764815\n",
       "(3.519, 3.899]                      106182       0.228130        22.812958\n",
       "(3.899, 4.279]                       33317       0.071581         7.158081\n",
       "(4.279, 4.659]                       28697       0.061655         6.165484\n",
       "(4.659, 5.039]                       42165       0.090591         9.059053\n",
       "(5.039, 5.419]                        3326       0.007146         0.714583\n",
       "(5.419, 5.799]                          22       0.000047         0.004727"
      ]
     },
     "execution_count": 247,
     "metadata": {},
     "output_type": "execute_result"
    }
   ],
   "source": [
    "df_valor_venda = frequency_table(df, \"Classe_Venda_Litro_Em_Reais\")\n",
    "df_valor_venda"
   ]
  },
  {
   "cell_type": "markdown",
   "metadata": {},
   "source": [
    "**4.4.3 Grafico de Frequencia relativa**"
   ]
  },
  {
   "cell_type": "code",
   "execution_count": 263,
   "metadata": {},
   "outputs": [
    {
     "data": {
      "image/png": "[encoded data removed]",
      "text/plain": [
       "<Figure size 1080x360 with 1 Axes>"
      ]
     },
     "metadata": {
      "needs_background": "light"
     },
     "output_type": "display_data"
    }
   ],
   "source": [
    "pesos_freq = np.zeros_like(df[\"Valor_Venda_Litro_Em_Reais\"]) + 1. / df[\"Valor_Venda_Litro_Em_Reais\"].size\n",
    "hist_plot = df[\"Valor_Venda_Litro_Em_Reais\"].hist(bins=10, label=\"Preços\", figsize= (15, 5), weights=pesos_freq)"
   ]
  },
  {
   "cell_type": "markdown",
   "metadata": {},
   "source": [
    "**4.4.4 ECDF = Função de distribuição cumulativa**"
   ]
  },
  {
   "cell_type": "code",
   "execution_count": 17,
   "metadata": {},
   "outputs": [],
   "source": [
    "def ecdf(data):\n",
    "    #Quantidade de registros\n",
    "    n = len(data)\n",
    "    \n",
    "    #dados do eixo x ordenados\n",
    "    x = np.sort(data)\n",
    "    \n",
    "    #dados do eixo y \n",
    "    y = np.arange(1, n+1)/n\n",
    "    \n",
    "    return x,y"
   ]
  },
  {
   "cell_type": "code",
   "execution_count": 18,
   "metadata": {},
   "outputs": [],
   "source": [
    "#Calcula ECDF para os dados de preco\n",
    "x_preco, y_preco = ecdf(df[\"Valor_Venda_Litro_Em_Reais\"])\n"
   ]
  },
  {
   "cell_type": "code",
   "execution_count": 265,
   "metadata": {
    "scrolled": true
   },
   "outputs": [
    {
     "data": {
      "image/png": "[encoded data removed]",
      "text/plain": [
       "<Figure size 1080x360 with 1 Axes>"
      ]
     },
     "metadata": {
      "needs_background": "light"
     },
     "output_type": "display_data"
    }
   ],
   "source": [
    "#Configura o grafico \n",
    "plt.figure(figsize= (15, 5))\n",
    "plt.xlabel(\"Preco\")\n",
    "plt.ylabel(\"ECDF\")\n",
    "\n",
    "plt.plot(x_preco, y_preco, marker = \".\",  linestyle = \"none\")\n",
    "plt.show()\n"
   ]
  }
 ],
 "metadata": {
  "kernelspec": {
   "display_name": "Python 3",
   "language": "python",
   "name": "python3"
  },
  "language_info": {
   "codemirror_mode": {
    "name": "ipython",
    "version": 3
   },
   "file_extension": ".py",
   "mimetype": "text/x-python",
   "name": "python",
   "nbconvert_exporter": "python",
   "pygments_lexer": "ipython3",
   "version": "3.8.3"
  }
 },
 "nbformat": 4,
 "nbformat_minor": 4
}
