{
 "cells": [
  {
   "cell_type": "markdown",
   "metadata": {},
   "source": [
    "## Preparação ambiente"
   ]
  },
  {
   "cell_type": "code",
   "execution_count": 96,
   "metadata": {},
   "outputs": [],
   "source": [
    "#Importa os pacotes\n",
    "import pandas as pd\n",
    "import os\n",
    "import tabula"
   ]
  },
  {
   "cell_type": "code",
   "execution_count": 97,
   "metadata": {},
   "outputs": [],
   "source": [
    "#Define caminho para datasets\n",
    "caminho_precos_por_semestre = './v0/PrecosAgrupadosPorSemestre'\n",
    "caminho_precos_por_mes = './v0/PrecosAgrupadosPorMes'\n",
    "caminho_precos_ultimas_semanas = './v0/PrecosQuatroUltimasSemanas'\n"
   ]
  },
  {
   "cell_type": "markdown",
   "metadata": {},
   "source": [
    "**1.Verifica estrutura arquivos de Histórico**\n",
    "\n"
   ]
  },
  {
   "cell_type": "code",
   "execution_count": 100,
   "metadata": {},
   "outputs": [
    {
     "name": "stdout",
     "output_type": "stream",
     "text": [
      "                                                          Região - Sigla\\tEstado - Sigla\\tMunicípio\\tRevenda\\tCNPJ da Revenda\\tProduto\\tData da Coleta\\tValor de Venda\\tValor de Compra\\tUnidade de Medida\\tBandeira\n",
      "CO\\tDF\\tBRASILIA\\tABRITTA POSTOS DE SERVIÇOS LT... 499\\t2                           8903\\tR$ / litro\\tRAIZEN                                                                                                        \n",
      "CO\\tDF\\tBRASILIA\\tABRITTA POSTOS DE SERVIÇOS LT... 399\\t2                           8287\\tR$ / litro\\tRAIZEN                                                                                                        \n",
      "CO\\tDF\\tBRASILIA\\tABRITTA POSTOS DE SERVIÇOS LT... 25\\t2                            5921\\tR$ / litro\\tRAIZEN                                                                                                        \n",
      "CO\\tDF\\tBRASILIA\\tABRITTA POSTOS DE SERVIÇOS LT... 499\\t2                           8903\\tR$ / litro\\tRAIZEN                                                                                                        \n",
      "CO\\tDF\\tBRASILIA\\tABRITTA POSTOS DE SERVIÇOS LT... 399\\t2                           8336\\tR$ / litro\\tRAIZEN                                                                                                        \n",
      "CO\\tDF\\tBRASILIA\\tABRITTA POSTOS DE SERVIÇOS LT... 399\\t2                           8275\\tR$ / litro\\tRAIZEN                                                                                                        \n",
      "CO\\tDF\\tBRASILIA\\tABRITTA POSTOS DE SERVIÇOS LT... 499\\t2                           8903\\tR$ / litro\\tRAIZEN                                                                                                        \n",
      "CO\\tDF\\tBRASILIA\\tABRITTA POSTOS DE SERVIÇOS LT... 399\\t2                           8336\\tR$ / litro\\tRAIZEN                                                                                                        \n",
      "CO\\tDF\\tBRASILIA\\tABRITTA POSTOS DE SERVIÇOS LT... 399\\t2                           8275\\tR$ / litro\\tRAIZEN                                                                                                        \n",
      "CO\\tDF\\tBRASILIA\\tABRITTA POSTOS DE SERVIÇOS LT... 499\\t2                           8903\\tR$ / litro\\tRAIZEN                                                                                                        \n"
     ]
    }
   ],
   "source": [
    "example_file_path = os.path.join(caminho_precos_por_semestre, os.listdir(caminho_precos_por_semestre)[0]) \n",
    "\n",
    "example_file = pd.read_csv(example_file_path, nrows=10, encoding=\"utf-16\")\n",
    "\n",
    "print(example_file)"
   ]
  },
  {
   "cell_type": "markdown",
   "metadata": {},
   "source": [
    "**2.Cria DataFrame Pandas para armazenar os dados dos datasets de histórico de preço**"
   ]
  },
  {
   "cell_type": "code",
   "execution_count": 117,
   "metadata": {},
   "outputs": [
    {
     "data": {
      "text/html": [
       "<div>\n",
       "<style scoped>\n",
       "    .dataframe tbody tr th:only-of-type {\n",
       "        vertical-align: middle;\n",
       "    }\n",
       "\n",
       "    .dataframe tbody tr th {\n",
       "        vertical-align: top;\n",
       "    }\n",
       "\n",
       "    .dataframe thead th {\n",
       "        text-align: right;\n",
       "    }\n",
       "</style>\n",
       "<table border=\"1\" class=\"dataframe\">\n",
       "  <thead>\n",
       "    <tr style=\"text-align: right;\">\n",
       "      <th></th>\n",
       "      <th>Região - Sigla</th>\n",
       "      <th>Estado - Sigla</th>\n",
       "      <th>Município</th>\n",
       "      <th>Revenda</th>\n",
       "      <th>CNPJ da Revenda</th>\n",
       "      <th>Produto</th>\n",
       "      <th>Data da Coleta</th>\n",
       "      <th>Valor de Venda</th>\n",
       "      <th>Valor de Compra</th>\n",
       "      <th>Unidade de Medida</th>\n",
       "      <th>Bandeira</th>\n",
       "    </tr>\n",
       "  </thead>\n",
       "  <tbody>\n",
       "    <tr>\n",
       "      <th>0</th>\n",
       "      <td>CO</td>\n",
       "      <td>DF</td>\n",
       "      <td>BRASILIA</td>\n",
       "      <td>ABRITTA POSTOS DE SERVIÇOS LTDA</td>\n",
       "      <td>10668863000195</td>\n",
       "      <td>ETANOL</td>\n",
       "      <td>02/03/2016</td>\n",
       "      <td>3,499</td>\n",
       "      <td>2,8903</td>\n",
       "      <td>R$ / litro</td>\n",
       "      <td>RAIZEN</td>\n",
       "    </tr>\n",
       "    <tr>\n",
       "      <th>1</th>\n",
       "      <td>CO</td>\n",
       "      <td>DF</td>\n",
       "      <td>BRASILIA</td>\n",
       "      <td>ABRITTA POSTOS DE SERVIÇOS LTDA</td>\n",
       "      <td>10668863000195</td>\n",
       "      <td>ETANOL</td>\n",
       "      <td>03/02/2016</td>\n",
       "      <td>3,399</td>\n",
       "      <td>2,8287</td>\n",
       "      <td>R$ / litro</td>\n",
       "      <td>RAIZEN</td>\n",
       "    </tr>\n",
       "    <tr>\n",
       "      <th>2</th>\n",
       "      <td>CO</td>\n",
       "      <td>DF</td>\n",
       "      <td>BRASILIA</td>\n",
       "      <td>ABRITTA POSTOS DE SERVIÇOS LTDA</td>\n",
       "      <td>10668863000195</td>\n",
       "      <td>ETANOL</td>\n",
       "      <td>05/01/2016</td>\n",
       "      <td>3,25</td>\n",
       "      <td>2,5921</td>\n",
       "      <td>R$ / litro</td>\n",
       "      <td>RAIZEN</td>\n",
       "    </tr>\n",
       "    <tr>\n",
       "      <th>3</th>\n",
       "      <td>CO</td>\n",
       "      <td>DF</td>\n",
       "      <td>BRASILIA</td>\n",
       "      <td>ABRITTA POSTOS DE SERVIÇOS LTDA</td>\n",
       "      <td>10668863000195</td>\n",
       "      <td>ETANOL</td>\n",
       "      <td>09/03/2016</td>\n",
       "      <td>3,499</td>\n",
       "      <td>2,8903</td>\n",
       "      <td>R$ / litro</td>\n",
       "      <td>RAIZEN</td>\n",
       "    </tr>\n",
       "    <tr>\n",
       "      <th>4</th>\n",
       "      <td>CO</td>\n",
       "      <td>DF</td>\n",
       "      <td>BRASILIA</td>\n",
       "      <td>ABRITTA POSTOS DE SERVIÇOS LTDA</td>\n",
       "      <td>10668863000195</td>\n",
       "      <td>ETANOL</td>\n",
       "      <td>11/02/2016</td>\n",
       "      <td>3,399</td>\n",
       "      <td>2,8336</td>\n",
       "      <td>R$ / litro</td>\n",
       "      <td>RAIZEN</td>\n",
       "    </tr>\n",
       "  </tbody>\n",
       "</table>\n",
       "</div>"
      ],
      "text/plain": [
       "  Região - Sigla Estado - Sigla Município                          Revenda  \\\n",
       "0             CO             DF  BRASILIA  ABRITTA POSTOS DE SERVIÇOS LTDA   \n",
       "1             CO             DF  BRASILIA  ABRITTA POSTOS DE SERVIÇOS LTDA   \n",
       "2             CO             DF  BRASILIA  ABRITTA POSTOS DE SERVIÇOS LTDA   \n",
       "3             CO             DF  BRASILIA  ABRITTA POSTOS DE SERVIÇOS LTDA   \n",
       "4             CO             DF  BRASILIA  ABRITTA POSTOS DE SERVIÇOS LTDA   \n",
       "\n",
       "   CNPJ da Revenda Produto Data da Coleta Valor de Venda Valor de Compra  \\\n",
       "0   10668863000195  ETANOL     02/03/2016          3,499          2,8903   \n",
       "1   10668863000195  ETANOL     03/02/2016          3,399          2,8287   \n",
       "2   10668863000195  ETANOL     05/01/2016           3,25          2,5921   \n",
       "3   10668863000195  ETANOL     09/03/2016          3,499          2,8903   \n",
       "4   10668863000195  ETANOL     11/02/2016          3,399          2,8336   \n",
       "\n",
       "  Unidade de Medida Bandeira  \n",
       "0        R$ / litro   RAIZEN  \n",
       "1        R$ / litro   RAIZEN  \n",
       "2        R$ / litro   RAIZEN  \n",
       "3        R$ / litro   RAIZEN  \n",
       "4        R$ / litro   RAIZEN  "
      ]
     },
     "execution_count": 117,
     "metadata": {},
     "output_type": "execute_result"
    }
   ],
   "source": [
    "lista_df_temp = []\n",
    "\n",
    "#carrega arquivos agrupados por semestre\n",
    "for file_path in os.listdir(caminho_precos_por_semestre):    \n",
    "    lista_df_temp.append(pd.read_csv(os.path.join(caminho_precos_por_semestre, file_path), encoding = 'utf-16', sep= '\\t'))    \n",
    "    \n",
    "#carrega arquivos agrupados por mes\n",
    "for file_path in os.listdir(caminho_precos_por_mes):    \n",
    "    lista_df_temp.append(pd.read_csv(os.path.join(caminho_precos_por_mes, file_path), encoding = 'utf-16', sep= '\\t'))        \n",
    "\n",
    "#carrega arquivos das ultimas semanas\n",
    "for file_path in os.listdir(caminho_precos_ultimas_semanas):    \n",
    "    lista_df_temp.append(pd.read_csv(os.path.join(caminho_precos_ultimas_semanas, file_path), encoding = 'utf-16', sep= '\\t'))            \n",
    "    \n",
    "   \n",
    "#concatena todos dataframes temporarios em um unico\n",
    "df = pd.concat(lista_df_temp, axis=0, ignore_index=True)\n",
    "\n",
    "#apaga lista de dataframes temporarios\n",
    "del lista_df_temp\n",
    "\n",
    "#imprime primeiras linhas dataframe\n",
    "df.head()"
   ]
  },
  {
   "cell_type": "markdown",
   "metadata": {},
   "source": [
    "**3.Altera nome colunas dataframe**"
   ]
  },
  {
   "cell_type": "code",
   "execution_count": 118,
   "metadata": {
    "scrolled": true
   },
   "outputs": [
    {
     "data": {
      "text/html": [
       "<div>\n",
       "<style scoped>\n",
       "    .dataframe tbody tr th:only-of-type {\n",
       "        vertical-align: middle;\n",
       "    }\n",
       "\n",
       "    .dataframe tbody tr th {\n",
       "        vertical-align: top;\n",
       "    }\n",
       "\n",
       "    .dataframe thead th {\n",
       "        text-align: right;\n",
       "    }\n",
       "</style>\n",
       "<table border=\"1\" class=\"dataframe\">\n",
       "  <thead>\n",
       "    <tr style=\"text-align: right;\">\n",
       "      <th></th>\n",
       "      <th>Regiao</th>\n",
       "      <th>Estado</th>\n",
       "      <th>Municipio</th>\n",
       "      <th>Revenda</th>\n",
       "      <th>CNPJ_Revenda</th>\n",
       "      <th>Produto</th>\n",
       "      <th>Data_Coleta</th>\n",
       "      <th>Valor_Venda</th>\n",
       "      <th>Valor_Compra</th>\n",
       "      <th>Unidade_Medida</th>\n",
       "      <th>Bandeira</th>\n",
       "    </tr>\n",
       "  </thead>\n",
       "  <tbody>\n",
       "    <tr>\n",
       "      <th>0</th>\n",
       "      <td>CO</td>\n",
       "      <td>DF</td>\n",
       "      <td>BRASILIA</td>\n",
       "      <td>ABRITTA POSTOS DE SERVIÇOS LTDA</td>\n",
       "      <td>10668863000195</td>\n",
       "      <td>ETANOL</td>\n",
       "      <td>02/03/2016</td>\n",
       "      <td>3,499</td>\n",
       "      <td>2,8903</td>\n",
       "      <td>R$ / litro</td>\n",
       "      <td>RAIZEN</td>\n",
       "    </tr>\n",
       "    <tr>\n",
       "      <th>1</th>\n",
       "      <td>CO</td>\n",
       "      <td>DF</td>\n",
       "      <td>BRASILIA</td>\n",
       "      <td>ABRITTA POSTOS DE SERVIÇOS LTDA</td>\n",
       "      <td>10668863000195</td>\n",
       "      <td>ETANOL</td>\n",
       "      <td>03/02/2016</td>\n",
       "      <td>3,399</td>\n",
       "      <td>2,8287</td>\n",
       "      <td>R$ / litro</td>\n",
       "      <td>RAIZEN</td>\n",
       "    </tr>\n",
       "    <tr>\n",
       "      <th>2</th>\n",
       "      <td>CO</td>\n",
       "      <td>DF</td>\n",
       "      <td>BRASILIA</td>\n",
       "      <td>ABRITTA POSTOS DE SERVIÇOS LTDA</td>\n",
       "      <td>10668863000195</td>\n",
       "      <td>ETANOL</td>\n",
       "      <td>05/01/2016</td>\n",
       "      <td>3,25</td>\n",
       "      <td>2,5921</td>\n",
       "      <td>R$ / litro</td>\n",
       "      <td>RAIZEN</td>\n",
       "    </tr>\n",
       "    <tr>\n",
       "      <th>3</th>\n",
       "      <td>CO</td>\n",
       "      <td>DF</td>\n",
       "      <td>BRASILIA</td>\n",
       "      <td>ABRITTA POSTOS DE SERVIÇOS LTDA</td>\n",
       "      <td>10668863000195</td>\n",
       "      <td>ETANOL</td>\n",
       "      <td>09/03/2016</td>\n",
       "      <td>3,499</td>\n",
       "      <td>2,8903</td>\n",
       "      <td>R$ / litro</td>\n",
       "      <td>RAIZEN</td>\n",
       "    </tr>\n",
       "    <tr>\n",
       "      <th>4</th>\n",
       "      <td>CO</td>\n",
       "      <td>DF</td>\n",
       "      <td>BRASILIA</td>\n",
       "      <td>ABRITTA POSTOS DE SERVIÇOS LTDA</td>\n",
       "      <td>10668863000195</td>\n",
       "      <td>ETANOL</td>\n",
       "      <td>11/02/2016</td>\n",
       "      <td>3,399</td>\n",
       "      <td>2,8336</td>\n",
       "      <td>R$ / litro</td>\n",
       "      <td>RAIZEN</td>\n",
       "    </tr>\n",
       "  </tbody>\n",
       "</table>\n",
       "</div>"
      ],
      "text/plain": [
       "  Regiao Estado Municipio                          Revenda    CNPJ_Revenda  \\\n",
       "0     CO     DF  BRASILIA  ABRITTA POSTOS DE SERVIÇOS LTDA  10668863000195   \n",
       "1     CO     DF  BRASILIA  ABRITTA POSTOS DE SERVIÇOS LTDA  10668863000195   \n",
       "2     CO     DF  BRASILIA  ABRITTA POSTOS DE SERVIÇOS LTDA  10668863000195   \n",
       "3     CO     DF  BRASILIA  ABRITTA POSTOS DE SERVIÇOS LTDA  10668863000195   \n",
       "4     CO     DF  BRASILIA  ABRITTA POSTOS DE SERVIÇOS LTDA  10668863000195   \n",
       "\n",
       "  Produto Data_Coleta Valor_Venda Valor_Compra Unidade_Medida Bandeira  \n",
       "0  ETANOL  02/03/2016       3,499       2,8903     R$ / litro   RAIZEN  \n",
       "1  ETANOL  03/02/2016       3,399       2,8287     R$ / litro   RAIZEN  \n",
       "2  ETANOL  05/01/2016        3,25       2,5921     R$ / litro   RAIZEN  \n",
       "3  ETANOL  09/03/2016       3,499       2,8903     R$ / litro   RAIZEN  \n",
       "4  ETANOL  11/02/2016       3,399       2,8336     R$ / litro   RAIZEN  "
      ]
     },
     "execution_count": 118,
     "metadata": {},
     "output_type": "execute_result"
    }
   ],
   "source": [
    "df.columns=['Regiao', 'Estado', 'Municipio', 'Revenda', 'CNPJ_Revenda','Produto', \n",
    "         'Data_Coleta', 'Valor_Venda', 'Valor_Compra', 'Unidade_Medida','Bandeira']\n",
    "df.head()"
   ]
  },
  {
   "cell_type": "markdown",
   "metadata": {},
   "source": [
    "**4.Verifica metadados dataset (quantidade de linhas, colunas)**"
   ]
  },
  {
   "cell_type": "code",
   "execution_count": 113,
   "metadata": {
    "scrolled": true
   },
   "outputs": [
    {
     "data": {
      "text/html": [
       "<div>\n",
       "<style scoped>\n",
       "    .dataframe tbody tr th:only-of-type {\n",
       "        vertical-align: middle;\n",
       "    }\n",
       "\n",
       "    .dataframe tbody tr th {\n",
       "        vertical-align: top;\n",
       "    }\n",
       "\n",
       "    .dataframe thead th {\n",
       "        text-align: right;\n",
       "    }\n",
       "</style>\n",
       "<table border=\"1\" class=\"dataframe\">\n",
       "  <thead>\n",
       "    <tr style=\"text-align: right;\">\n",
       "      <th></th>\n",
       "      <th>Regiao</th>\n",
       "      <th>Estado</th>\n",
       "      <th>Municipio</th>\n",
       "      <th>Revenda</th>\n",
       "      <th>CNPJ_Revenda</th>\n",
       "      <th>Produto</th>\n",
       "      <th>Data_Coleta</th>\n",
       "      <th>Valor_Venda</th>\n",
       "      <th>Valor_Compra</th>\n",
       "      <th>Unidade_Medida</th>\n",
       "      <th>Bandeira</th>\n",
       "    </tr>\n",
       "  </thead>\n",
       "  <tbody>\n",
       "    <tr>\n",
       "      <th>count</th>\n",
       "      <td>4451631</td>\n",
       "      <td>4451631</td>\n",
       "      <td>4451631</td>\n",
       "      <td>4451631</td>\n",
       "      <td>4.451631e+06</td>\n",
       "      <td>4451631</td>\n",
       "      <td>4451631</td>\n",
       "      <td>4451631</td>\n",
       "      <td>1694692</td>\n",
       "      <td>4451631</td>\n",
       "      <td>4451631</td>\n",
       "    </tr>\n",
       "    <tr>\n",
       "      <th>unique</th>\n",
       "      <td>7</td>\n",
       "      <td>27</td>\n",
       "      <td>500</td>\n",
       "      <td>19235</td>\n",
       "      <td>NaN</td>\n",
       "      <td>5</td>\n",
       "      <td>1037</td>\n",
       "      <td>5508</td>\n",
       "      <td>52968</td>\n",
       "      <td>1</td>\n",
       "      <td>88</td>\n",
       "    </tr>\n",
       "    <tr>\n",
       "      <th>top</th>\n",
       "      <td>SE</td>\n",
       "      <td>SP</td>\n",
       "      <td>SAO PAULO</td>\n",
       "      <td>SIM REDE DE POSTOS LTDA</td>\n",
       "      <td>NaN</td>\n",
       "      <td>GASOLINA</td>\n",
       "      <td>17/08/2020</td>\n",
       "      <td>2,999</td>\n",
       "      <td>3,05</td>\n",
       "      <td>R$ / litro</td>\n",
       "      <td>BRANCA</td>\n",
       "    </tr>\n",
       "    <tr>\n",
       "      <th>freq</th>\n",
       "      <td>2163376</td>\n",
       "      <td>1271548</td>\n",
       "      <td>119440</td>\n",
       "      <td>13843</td>\n",
       "      <td>NaN</td>\n",
       "      <td>1353344</td>\n",
       "      <td>18314</td>\n",
       "      <td>103169</td>\n",
       "      <td>2351</td>\n",
       "      <td>4451631</td>\n",
       "      <td>1414638</td>\n",
       "    </tr>\n",
       "    <tr>\n",
       "      <th>mean</th>\n",
       "      <td>NaN</td>\n",
       "      <td>NaN</td>\n",
       "      <td>NaN</td>\n",
       "      <td>NaN</td>\n",
       "      <td>2.149301e+13</td>\n",
       "      <td>NaN</td>\n",
       "      <td>NaN</td>\n",
       "      <td>NaN</td>\n",
       "      <td>NaN</td>\n",
       "      <td>NaN</td>\n",
       "      <td>NaN</td>\n",
       "    </tr>\n",
       "    <tr>\n",
       "      <th>std</th>\n",
       "      <td>NaN</td>\n",
       "      <td>NaN</td>\n",
       "      <td>NaN</td>\n",
       "      <td>NaN</td>\n",
       "      <td>2.446813e+13</td>\n",
       "      <td>NaN</td>\n",
       "      <td>NaN</td>\n",
       "      <td>NaN</td>\n",
       "      <td>NaN</td>\n",
       "      <td>NaN</td>\n",
       "      <td>NaN</td>\n",
       "    </tr>\n",
       "    <tr>\n",
       "      <th>min</th>\n",
       "      <td>NaN</td>\n",
       "      <td>NaN</td>\n",
       "      <td>NaN</td>\n",
       "      <td>NaN</td>\n",
       "      <td>1.388000e+09</td>\n",
       "      <td>NaN</td>\n",
       "      <td>NaN</td>\n",
       "      <td>NaN</td>\n",
       "      <td>NaN</td>\n",
       "      <td>NaN</td>\n",
       "      <td>NaN</td>\n",
       "    </tr>\n",
       "    <tr>\n",
       "      <th>25%</th>\n",
       "      <td>NaN</td>\n",
       "      <td>NaN</td>\n",
       "      <td>NaN</td>\n",
       "      <td>NaN</td>\n",
       "      <td>4.802584e+12</td>\n",
       "      <td>NaN</td>\n",
       "      <td>NaN</td>\n",
       "      <td>NaN</td>\n",
       "      <td>NaN</td>\n",
       "      <td>NaN</td>\n",
       "      <td>NaN</td>\n",
       "    </tr>\n",
       "    <tr>\n",
       "      <th>50%</th>\n",
       "      <td>NaN</td>\n",
       "      <td>NaN</td>\n",
       "      <td>NaN</td>\n",
       "      <td>NaN</td>\n",
       "      <td>1.038414e+13</td>\n",
       "      <td>NaN</td>\n",
       "      <td>NaN</td>\n",
       "      <td>NaN</td>\n",
       "      <td>NaN</td>\n",
       "      <td>NaN</td>\n",
       "      <td>NaN</td>\n",
       "    </tr>\n",
       "    <tr>\n",
       "      <th>75%</th>\n",
       "      <td>NaN</td>\n",
       "      <td>NaN</td>\n",
       "      <td>NaN</td>\n",
       "      <td>NaN</td>\n",
       "      <td>2.880963e+13</td>\n",
       "      <td>NaN</td>\n",
       "      <td>NaN</td>\n",
       "      <td>NaN</td>\n",
       "      <td>NaN</td>\n",
       "      <td>NaN</td>\n",
       "      <td>NaN</td>\n",
       "    </tr>\n",
       "    <tr>\n",
       "      <th>max</th>\n",
       "      <td>NaN</td>\n",
       "      <td>NaN</td>\n",
       "      <td>NaN</td>\n",
       "      <td>NaN</td>\n",
       "      <td>9.874986e+13</td>\n",
       "      <td>NaN</td>\n",
       "      <td>NaN</td>\n",
       "      <td>NaN</td>\n",
       "      <td>NaN</td>\n",
       "      <td>NaN</td>\n",
       "      <td>NaN</td>\n",
       "    </tr>\n",
       "  </tbody>\n",
       "</table>\n",
       "</div>"
      ],
      "text/plain": [
       "         Regiao   Estado  Municipio                  Revenda  CNPJ_Revenda  \\\n",
       "count   4451631  4451631    4451631                  4451631  4.451631e+06   \n",
       "unique        7       27        500                    19235           NaN   \n",
       "top          SE       SP  SAO PAULO  SIM REDE DE POSTOS LTDA           NaN   \n",
       "freq    2163376  1271548     119440                    13843           NaN   \n",
       "mean        NaN      NaN        NaN                      NaN  2.149301e+13   \n",
       "std         NaN      NaN        NaN                      NaN  2.446813e+13   \n",
       "min         NaN      NaN        NaN                      NaN  1.388000e+09   \n",
       "25%         NaN      NaN        NaN                      NaN  4.802584e+12   \n",
       "50%         NaN      NaN        NaN                      NaN  1.038414e+13   \n",
       "75%         NaN      NaN        NaN                      NaN  2.880963e+13   \n",
       "max         NaN      NaN        NaN                      NaN  9.874986e+13   \n",
       "\n",
       "         Produto Data_Coleta Valor_Venda Valor_Compra Unidade_Medida Bandeira  \n",
       "count    4451631     4451631     4451631      1694692        4451631  4451631  \n",
       "unique         5        1037        5508        52968              1       88  \n",
       "top     GASOLINA  17/08/2020       2,999         3,05     R$ / litro   BRANCA  \n",
       "freq     1353344       18314      103169         2351        4451631  1414638  \n",
       "mean         NaN         NaN         NaN          NaN            NaN      NaN  \n",
       "std          NaN         NaN         NaN          NaN            NaN      NaN  \n",
       "min          NaN         NaN         NaN          NaN            NaN      NaN  \n",
       "25%          NaN         NaN         NaN          NaN            NaN      NaN  \n",
       "50%          NaN         NaN         NaN          NaN            NaN      NaN  \n",
       "75%          NaN         NaN         NaN          NaN            NaN      NaN  \n",
       "max          NaN         NaN         NaN          NaN            NaN      NaN  "
      ]
     },
     "execution_count": 113,
     "metadata": {},
     "output_type": "execute_result"
    }
   ],
   "source": [
    "df.describe(include='all')"
   ]
  },
  {
   "cell_type": "markdown",
   "metadata": {},
   "source": [
    "**4.Filtra dados que não sejam de MG**"
   ]
  },
  {
   "cell_type": "code",
   "execution_count": 119,
   "metadata": {},
   "outputs": [
    {
     "name": "stdout",
     "output_type": "stream",
     "text": [
      "Quantidade de linhas antes de filtrar  4451631\n",
      "Quantidade de linhas depois de filtrar 465446\n"
     ]
    }
   ],
   "source": [
    "filtro_estado_mg = df['Estado'] == 'MG'\n",
    "print('Quantidade de linhas antes de filtrar ', len(df.index))\n",
    "df = df[filtro_estado_mg]\n",
    "print('Quantidade de linhas depois de filtrar', len(df.index))"
   ]
  },
  {
   "cell_type": "markdown",
   "metadata": {},
   "source": [
    "**5.Remove colunas que não serão utilizadas na análise**"
   ]
  },
  {
   "cell_type": "code",
   "execution_count": 120,
   "metadata": {
    "scrolled": true
   },
   "outputs": [
    {
     "data": {
      "text/html": [
       "<div>\n",
       "<style scoped>\n",
       "    .dataframe tbody tr th:only-of-type {\n",
       "        vertical-align: middle;\n",
       "    }\n",
       "\n",
       "    .dataframe tbody tr th {\n",
       "        vertical-align: top;\n",
       "    }\n",
       "\n",
       "    .dataframe thead th {\n",
       "        text-align: right;\n",
       "    }\n",
       "</style>\n",
       "<table border=\"1\" class=\"dataframe\">\n",
       "  <thead>\n",
       "    <tr style=\"text-align: right;\">\n",
       "      <th></th>\n",
       "      <th>Municipio</th>\n",
       "      <th>Produto</th>\n",
       "      <th>Data_Coleta</th>\n",
       "      <th>Valor_Venda</th>\n",
       "      <th>Unidade_Medida</th>\n",
       "    </tr>\n",
       "  </thead>\n",
       "  <tbody>\n",
       "    <tr>\n",
       "      <th>258491</th>\n",
       "      <td>ALFENAS</td>\n",
       "      <td>DIESEL S10</td>\n",
       "      <td>01/02/2016</td>\n",
       "      <td>3,237</td>\n",
       "      <td>R$ / litro</td>\n",
       "    </tr>\n",
       "    <tr>\n",
       "      <th>258492</th>\n",
       "      <td>ALFENAS</td>\n",
       "      <td>DIESEL S10</td>\n",
       "      <td>02/05/2016</td>\n",
       "      <td>3,237</td>\n",
       "      <td>R$ / litro</td>\n",
       "    </tr>\n",
       "    <tr>\n",
       "      <th>258493</th>\n",
       "      <td>ALFENAS</td>\n",
       "      <td>DIESEL S10</td>\n",
       "      <td>04/01/2016</td>\n",
       "      <td>3,197</td>\n",
       "      <td>R$ / litro</td>\n",
       "    </tr>\n",
       "    <tr>\n",
       "      <th>258494</th>\n",
       "      <td>ALFENAS</td>\n",
       "      <td>DIESEL S10</td>\n",
       "      <td>04/04/2016</td>\n",
       "      <td>3,237</td>\n",
       "      <td>R$ / litro</td>\n",
       "    </tr>\n",
       "    <tr>\n",
       "      <th>258495</th>\n",
       "      <td>ALFENAS</td>\n",
       "      <td>DIESEL S10</td>\n",
       "      <td>06/06/2016</td>\n",
       "      <td>3,209</td>\n",
       "      <td>R$ / litro</td>\n",
       "    </tr>\n",
       "  </tbody>\n",
       "</table>\n",
       "</div>"
      ],
      "text/plain": [
       "       Municipio     Produto Data_Coleta Valor_Venda Unidade_Medida\n",
       "258491   ALFENAS  DIESEL S10  01/02/2016       3,237     R$ / litro\n",
       "258492   ALFENAS  DIESEL S10  02/05/2016       3,237     R$ / litro\n",
       "258493   ALFENAS  DIESEL S10  04/01/2016       3,197     R$ / litro\n",
       "258494   ALFENAS  DIESEL S10  04/04/2016       3,237     R$ / litro\n",
       "258495   ALFENAS  DIESEL S10  06/06/2016       3,209     R$ / litro"
      ]
     },
     "execution_count": 120,
     "metadata": {},
     "output_type": "execute_result"
    }
   ],
   "source": [
    "df.drop(['Regiao', 'Estado', 'Revenda', 'CNPJ_Revenda', 'Valor_Compra', 'Bandeira'], axis=1, inplace=True)\n",
    "df.head()\n"
   ]
  },
  {
   "cell_type": "markdown",
   "metadata": {},
   "source": [
    "**7.Verificar estrutura do dataframe para ver se podemos remover mais algum campo**"
   ]
  },
  {
   "cell_type": "code",
   "execution_count": 121,
   "metadata": {
    "scrolled": true
   },
   "outputs": [
    {
     "data": {
      "text/html": [
       "<div>\n",
       "<style scoped>\n",
       "    .dataframe tbody tr th:only-of-type {\n",
       "        vertical-align: middle;\n",
       "    }\n",
       "\n",
       "    .dataframe tbody tr th {\n",
       "        vertical-align: top;\n",
       "    }\n",
       "\n",
       "    .dataframe thead th {\n",
       "        text-align: right;\n",
       "    }\n",
       "</style>\n",
       "<table border=\"1\" class=\"dataframe\">\n",
       "  <thead>\n",
       "    <tr style=\"text-align: right;\">\n",
       "      <th></th>\n",
       "      <th>Municipio</th>\n",
       "      <th>Produto</th>\n",
       "      <th>Data_Coleta</th>\n",
       "      <th>Valor_Venda</th>\n",
       "      <th>Unidade_Medida</th>\n",
       "    </tr>\n",
       "  </thead>\n",
       "  <tbody>\n",
       "    <tr>\n",
       "      <th>count</th>\n",
       "      <td>465446</td>\n",
       "      <td>465446</td>\n",
       "      <td>465446</td>\n",
       "      <td>465446</td>\n",
       "      <td>465446</td>\n",
       "    </tr>\n",
       "    <tr>\n",
       "      <th>unique</th>\n",
       "      <td>64</td>\n",
       "      <td>5</td>\n",
       "      <td>1003</td>\n",
       "      <td>3831</td>\n",
       "      <td>1</td>\n",
       "    </tr>\n",
       "    <tr>\n",
       "      <th>top</th>\n",
       "      <td>UBERLANDIA</td>\n",
       "      <td>ETANOL</td>\n",
       "      <td>17/08/2020</td>\n",
       "      <td>2,999</td>\n",
       "      <td>R$ / litro</td>\n",
       "    </tr>\n",
       "    <tr>\n",
       "      <th>freq</th>\n",
       "      <td>27349</td>\n",
       "      <td>137751</td>\n",
       "      <td>1668</td>\n",
       "      <td>12874</td>\n",
       "      <td>465446</td>\n",
       "    </tr>\n",
       "  </tbody>\n",
       "</table>\n",
       "</div>"
      ],
      "text/plain": [
       "         Municipio Produto Data_Coleta Valor_Venda Unidade_Medida\n",
       "count       465446  465446      465446      465446         465446\n",
       "unique          64       5        1003        3831              1\n",
       "top     UBERLANDIA  ETANOL  17/08/2020       2,999     R$ / litro\n",
       "freq         27349  137751        1668       12874         465446"
      ]
     },
     "execution_count": 121,
     "metadata": {},
     "output_type": "execute_result"
    }
   ],
   "source": [
    "df.describe()"
   ]
  },
  {
   "cell_type": "markdown",
   "metadata": {},
   "source": [
    "**8.Remover coluna de Unidade de medida (possui apenas 1 valor) e renomear coluna de Valor_Venda**"
   ]
  },
  {
   "cell_type": "code",
   "execution_count": 122,
   "metadata": {},
   "outputs": [
    {
     "data": {
      "text/html": [
       "<div>\n",
       "<style scoped>\n",
       "    .dataframe tbody tr th:only-of-type {\n",
       "        vertical-align: middle;\n",
       "    }\n",
       "\n",
       "    .dataframe tbody tr th {\n",
       "        vertical-align: top;\n",
       "    }\n",
       "\n",
       "    .dataframe thead th {\n",
       "        text-align: right;\n",
       "    }\n",
       "</style>\n",
       "<table border=\"1\" class=\"dataframe\">\n",
       "  <thead>\n",
       "    <tr style=\"text-align: right;\">\n",
       "      <th></th>\n",
       "      <th>Municipio</th>\n",
       "      <th>Produto</th>\n",
       "      <th>Data_Coleta</th>\n",
       "      <th>Valor_Venda_Litro_Em_Reais</th>\n",
       "    </tr>\n",
       "  </thead>\n",
       "  <tbody>\n",
       "    <tr>\n",
       "      <th>count</th>\n",
       "      <td>465446</td>\n",
       "      <td>465446</td>\n",
       "      <td>465446</td>\n",
       "      <td>465446</td>\n",
       "    </tr>\n",
       "    <tr>\n",
       "      <th>unique</th>\n",
       "      <td>64</td>\n",
       "      <td>5</td>\n",
       "      <td>1003</td>\n",
       "      <td>3831</td>\n",
       "    </tr>\n",
       "    <tr>\n",
       "      <th>top</th>\n",
       "      <td>UBERLANDIA</td>\n",
       "      <td>ETANOL</td>\n",
       "      <td>17/08/2020</td>\n",
       "      <td>2,999</td>\n",
       "    </tr>\n",
       "    <tr>\n",
       "      <th>freq</th>\n",
       "      <td>27349</td>\n",
       "      <td>137751</td>\n",
       "      <td>1668</td>\n",
       "      <td>12874</td>\n",
       "    </tr>\n",
       "  </tbody>\n",
       "</table>\n",
       "</div>"
      ],
      "text/plain": [
       "         Municipio Produto Data_Coleta Valor_Venda_Litro_Em_Reais\n",
       "count       465446  465446      465446                     465446\n",
       "unique          64       5        1003                       3831\n",
       "top     UBERLANDIA  ETANOL  17/08/2020                      2,999\n",
       "freq         27349  137751        1668                      12874"
      ]
     },
     "execution_count": 122,
     "metadata": {},
     "output_type": "execute_result"
    }
   ],
   "source": [
    "df.drop(['Unidade_Medida'], axis=1, inplace=True)\n",
    "df = df.rename({'Valor_Venda': 'Valor_Venda_Litro_Em_Reais'}, axis=1)\n",
    "df.describe()"
   ]
  },
  {
   "cell_type": "markdown",
   "metadata": {},
   "source": [
    "**9.Verificar categoria de produtos**"
   ]
  },
  {
   "cell_type": "code",
   "execution_count": 123,
   "metadata": {},
   "outputs": [
    {
     "name": "stdout",
     "output_type": "stream",
     "text": [
      "['DIESEL S10' 'ETANOL' 'GASOLINA' 'DIESEL' 'GNV']\n"
     ]
    }
   ],
   "source": [
    "print(df[\"Produto\"].unique())"
   ]
  },
  {
   "cell_type": "markdown",
   "metadata": {},
   "source": [
    "**9.Checar tipos das colunas**"
   ]
  },
  {
   "cell_type": "code",
   "execution_count": 129,
   "metadata": {
    "scrolled": true
   },
   "outputs": [
    {
     "name": "stdout",
     "output_type": "stream",
     "text": [
      "<class 'pandas.core.frame.DataFrame'>\n",
      "Int64Index: 465446 entries, 258491 to 4448812\n",
      "Data columns (total 4 columns):\n",
      " #   Column                      Non-Null Count   Dtype \n",
      "---  ------                      --------------   ----- \n",
      " 0   Municipio                   465446 non-null  object\n",
      " 1   Produto                     465446 non-null  object\n",
      " 2   Data_Coleta                 465446 non-null  object\n",
      " 3   Valor_Venda_Litro_Em_Reais  465446 non-null  object\n",
      "dtypes: object(4)\n",
      "memory usage: 17.8+ MB\n"
     ]
    }
   ],
   "source": [
    "df.info()"
   ]
  },
  {
   "cell_type": "markdown",
   "metadata": {},
   "source": [
    "**10.Alterar tipos das colunas para o tipo do dado correspondente**"
   ]
  },
  {
   "cell_type": "code",
   "execution_count": 143,
   "metadata": {},
   "outputs": [
    {
     "name": "stdout",
     "output_type": "stream",
     "text": [
      "<class 'pandas.core.frame.DataFrame'>\n",
      "Int64Index: 465446 entries, 258491 to 4448812\n",
      "Data columns (total 4 columns):\n",
      " #   Column                      Non-Null Count   Dtype         \n",
      "---  ------                      --------------   -----         \n",
      " 0   Municipio                   465446 non-null  string        \n",
      " 1   Produto                     465446 non-null  string        \n",
      " 2   Data_Coleta                 465446 non-null  datetime64[ns]\n",
      " 3   Valor_Venda_Litro_Em_Reais  465446 non-null  float64       \n",
      "dtypes: datetime64[ns](1), float64(1), string(2)\n",
      "memory usage: 17.8 MB\n"
     ]
    }
   ],
   "source": [
    "##Tipos String\n",
    "df['Municipio'] = df['Municipio'].astype('string')\n",
    "df['Produto'] = df['Produto'].astype('string')\n",
    "\n",
    "##Campo de Data\n",
    "df['Data_Coleta'] = pd.to_datetime(df['Data_Coleta'], format='%d/%m/%Y')\n",
    "\n",
    "\n",
    "##Campo de valor\n",
    "# Substituir ',' por '.'\n",
    "df['Valor_Venda_Litro_Em_Reais'] = df['Valor_Venda_Litro_Em_Reais'].astype(str).str.replace(',', '.')\n",
    "df['Valor_Venda_Litro_Em_Reais'] = pd.to_numeric(df['Valor_Venda_Litro_Em_Reais'])\n",
    "\n",
    "df.info()"
   ]
  },
  {
   "cell_type": "markdown",
   "metadata": {},
   "source": [
    "**11.Procura por registros com valores faltantes**"
   ]
  },
  {
   "cell_type": "code",
   "execution_count": 144,
   "metadata": {},
   "outputs": [
    {
     "data": {
      "text/plain": [
       "False"
      ]
     },
     "execution_count": 144,
     "metadata": {},
     "output_type": "execute_result"
    }
   ],
   "source": [
    "df.isnull().values.any()"
   ]
  },
  {
   "cell_type": "markdown",
   "metadata": {},
   "source": [
    "**12.Salva dataframe de historico de preços tratado em arquivo compactado**"
   ]
  },
  {
   "cell_type": "code",
   "execution_count": 151,
   "metadata": {},
   "outputs": [],
   "source": [
    "caminho_df_v1 = './v1'\n",
    "opcoes_zip = dict(method='zip', archive_name='historico_precos.csv')\n",
    "df.to_csv(os.path.join(caminho_df_v1, 'historico_precos.zip'), index=False, compression=opcoes_zip)\n"
   ]
  },
  {
   "cell_type": "markdown",
   "metadata": {},
   "source": [
    "**13.Carrega arquivo de Regiões do Estado**"
   ]
  },
  {
   "cell_type": "code",
   "execution_count": 153,
   "metadata": {},
   "outputs": [],
   "source": [
    "#carregar pacote que le tabelas em pdf\n",
    "import tabula "
   ]
  },
  {
   "cell_type": "code",
   "execution_count": 159,
   "metadata": {},
   "outputs": [],
   "source": [
    "#converter tabela pdf em csv\n",
    "caminho_arquivo_regioes = './v0/RegioesPlanejamento'\n",
    "caminho_pdf = os.path.join(caminho_arquivo_regioes, 'ligminas_10_2_02_regplan_listamunicipios.pdf')\n",
    "caminho_csv = os.path.join(caminho_arquivo_regioes, 'regioes.csv')\n",
    "tabula.convert_into(caminho_pdf, caminho_csv, pages='all', output_format='csv')\n"
   ]
  },
  {
   "cell_type": "markdown",
   "metadata": {},
   "source": [
    "**14.Verifica estrutura do arquivos de regiões**"
   ]
  },
  {
   "cell_type": "code",
   "execution_count": 175,
   "metadata": {
    "scrolled": true
   },
   "outputs": [
    {
     "name": "stdout",
     "output_type": "stream",
     "text": [
      "  Código da\\rRegião de Planejamento Nome da\\rRegião de Planejamento  \\\n",
      "0                                 I                         Central   \n",
      "1                                 I                         Central   \n",
      "2                                 I                         Central   \n",
      "3                                 I                         Central   \n",
      "4                                 I                         Central   \n",
      "5                                 I                         Central   \n",
      "6                                 I                         Central   \n",
      "7                                 I                         Central   \n",
      "8                                 I                         Central   \n",
      "9                                 I                         Central   \n",
      "\n",
      "             Município  \n",
      "0               Abaeté  \n",
      "1  Alfredo Vasconcelos  \n",
      "2          Alvinópolis  \n",
      "3    Alvorada de Minas  \n",
      "4       Antônio Carlos  \n",
      "5               Araçaí  \n",
      "6      Augusto de Lima  \n",
      "7               Baldim  \n",
      "8      Barão de Cocais  \n",
      "9            Barbacena  \n"
     ]
    }
   ],
   "source": [
    "example_file = pd.read_csv(caminho_csv, encoding=\"latin-1\", nrows=10)\n",
    "\n",
    "print(example_file)"
   ]
  },
  {
   "cell_type": "markdown",
   "metadata": {},
   "source": [
    "**15.Cria DataFrame Pandas para armazenar os dados do dataset de regiões**"
   ]
  },
  {
   "cell_type": "code",
   "execution_count": 216,
   "metadata": {
    "scrolled": true
   },
   "outputs": [
    {
     "data": {
      "text/html": [
       "<div>\n",
       "<style scoped>\n",
       "    .dataframe tbody tr th:only-of-type {\n",
       "        vertical-align: middle;\n",
       "    }\n",
       "\n",
       "    .dataframe tbody tr th {\n",
       "        vertical-align: top;\n",
       "    }\n",
       "\n",
       "    .dataframe thead th {\n",
       "        text-align: right;\n",
       "    }\n",
       "</style>\n",
       "<table border=\"1\" class=\"dataframe\">\n",
       "  <thead>\n",
       "    <tr style=\"text-align: right;\">\n",
       "      <th></th>\n",
       "      <th>Código da\\rRegião de Planejamento</th>\n",
       "      <th>Nome da\\rRegião de Planejamento</th>\n",
       "      <th>Município</th>\n",
       "    </tr>\n",
       "  </thead>\n",
       "  <tbody>\n",
       "    <tr>\n",
       "      <th>count</th>\n",
       "      <td>871</td>\n",
       "      <td>871</td>\n",
       "      <td>870</td>\n",
       "    </tr>\n",
       "    <tr>\n",
       "      <th>unique</th>\n",
       "      <td>13</td>\n",
       "      <td>13</td>\n",
       "      <td>854</td>\n",
       "    </tr>\n",
       "    <tr>\n",
       "      <th>top</th>\n",
       "      <td>I</td>\n",
       "      <td>Central</td>\n",
       "      <td>Município</td>\n",
       "    </tr>\n",
       "    <tr>\n",
       "      <th>freq</th>\n",
       "      <td>157</td>\n",
       "      <td>157</td>\n",
       "      <td>17</td>\n",
       "    </tr>\n",
       "  </tbody>\n",
       "</table>\n",
       "</div>"
      ],
      "text/plain": [
       "       Código da\\rRegião de Planejamento Nome da\\rRegião de Planejamento  \\\n",
       "count                                871                             871   \n",
       "unique                                13                              13   \n",
       "top                                    I                         Central   \n",
       "freq                                 157                             157   \n",
       "\n",
       "        Município  \n",
       "count         870  \n",
       "unique        854  \n",
       "top     Município  \n",
       "freq           17  "
      ]
     },
     "execution_count": 216,
     "metadata": {},
     "output_type": "execute_result"
    }
   ],
   "source": [
    "df_regioes = pd.read_csv(caminho_csv, encoding=\"latin-1\")\n",
    "df_regioes.describe()"
   ]
  },
  {
   "cell_type": "markdown",
   "metadata": {},
   "source": [
    "**16.Renomeia colunas dataframe de regiões**"
   ]
  },
  {
   "cell_type": "code",
   "execution_count": 217,
   "metadata": {},
   "outputs": [
    {
     "data": {
      "text/html": [
       "<div>\n",
       "<style scoped>\n",
       "    .dataframe tbody tr th:only-of-type {\n",
       "        vertical-align: middle;\n",
       "    }\n",
       "\n",
       "    .dataframe tbody tr th {\n",
       "        vertical-align: top;\n",
       "    }\n",
       "\n",
       "    .dataframe thead th {\n",
       "        text-align: right;\n",
       "    }\n",
       "</style>\n",
       "<table border=\"1\" class=\"dataframe\">\n",
       "  <thead>\n",
       "    <tr style=\"text-align: right;\">\n",
       "      <th></th>\n",
       "      <th>Codigo_Regiao</th>\n",
       "      <th>Nome_Regiao</th>\n",
       "      <th>Municipio</th>\n",
       "    </tr>\n",
       "  </thead>\n",
       "  <tbody>\n",
       "    <tr>\n",
       "      <th>0</th>\n",
       "      <td>I</td>\n",
       "      <td>Central</td>\n",
       "      <td>Abaeté</td>\n",
       "    </tr>\n",
       "    <tr>\n",
       "      <th>1</th>\n",
       "      <td>I</td>\n",
       "      <td>Central</td>\n",
       "      <td>Alfredo Vasconcelos</td>\n",
       "    </tr>\n",
       "    <tr>\n",
       "      <th>2</th>\n",
       "      <td>I</td>\n",
       "      <td>Central</td>\n",
       "      <td>Alvinópolis</td>\n",
       "    </tr>\n",
       "    <tr>\n",
       "      <th>3</th>\n",
       "      <td>I</td>\n",
       "      <td>Central</td>\n",
       "      <td>Alvorada de Minas</td>\n",
       "    </tr>\n",
       "    <tr>\n",
       "      <th>4</th>\n",
       "      <td>I</td>\n",
       "      <td>Central</td>\n",
       "      <td>Antônio Carlos</td>\n",
       "    </tr>\n",
       "  </tbody>\n",
       "</table>\n",
       "</div>"
      ],
      "text/plain": [
       "  Codigo_Regiao Nome_Regiao            Municipio\n",
       "0             I     Central               Abaeté\n",
       "1             I     Central  Alfredo Vasconcelos\n",
       "2             I     Central          Alvinópolis\n",
       "3             I     Central    Alvorada de Minas\n",
       "4             I     Central       Antônio Carlos"
      ]
     },
     "execution_count": 217,
     "metadata": {},
     "output_type": "execute_result"
    }
   ],
   "source": [
    "df_regioes.columns=['Codigo_Regiao', 'Nome_Regiao', 'Municipio']\n",
    "df_regioes.head()"
   ]
  },
  {
   "cell_type": "markdown",
   "metadata": {},
   "source": [
    "**17.Remove coluna de codigo_regiao**"
   ]
  },
  {
   "cell_type": "code",
   "execution_count": 218,
   "metadata": {},
   "outputs": [
    {
     "data": {
      "text/html": [
       "<div>\n",
       "<style scoped>\n",
       "    .dataframe tbody tr th:only-of-type {\n",
       "        vertical-align: middle;\n",
       "    }\n",
       "\n",
       "    .dataframe tbody tr th {\n",
       "        vertical-align: top;\n",
       "    }\n",
       "\n",
       "    .dataframe thead th {\n",
       "        text-align: right;\n",
       "    }\n",
       "</style>\n",
       "<table border=\"1\" class=\"dataframe\">\n",
       "  <thead>\n",
       "    <tr style=\"text-align: right;\">\n",
       "      <th></th>\n",
       "      <th>Nome_Regiao</th>\n",
       "      <th>Municipio</th>\n",
       "    </tr>\n",
       "  </thead>\n",
       "  <tbody>\n",
       "    <tr>\n",
       "      <th>0</th>\n",
       "      <td>Central</td>\n",
       "      <td>Abaeté</td>\n",
       "    </tr>\n",
       "    <tr>\n",
       "      <th>1</th>\n",
       "      <td>Central</td>\n",
       "      <td>Alfredo Vasconcelos</td>\n",
       "    </tr>\n",
       "    <tr>\n",
       "      <th>2</th>\n",
       "      <td>Central</td>\n",
       "      <td>Alvinópolis</td>\n",
       "    </tr>\n",
       "    <tr>\n",
       "      <th>3</th>\n",
       "      <td>Central</td>\n",
       "      <td>Alvorada de Minas</td>\n",
       "    </tr>\n",
       "    <tr>\n",
       "      <th>4</th>\n",
       "      <td>Central</td>\n",
       "      <td>Antônio Carlos</td>\n",
       "    </tr>\n",
       "  </tbody>\n",
       "</table>\n",
       "</div>"
      ],
      "text/plain": [
       "  Nome_Regiao            Municipio\n",
       "0     Central               Abaeté\n",
       "1     Central  Alfredo Vasconcelos\n",
       "2     Central          Alvinópolis\n",
       "3     Central    Alvorada de Minas\n",
       "4     Central       Antônio Carlos"
      ]
     },
     "execution_count": 218,
     "metadata": {},
     "output_type": "execute_result"
    }
   ],
   "source": [
    "df_regioes.drop(['Codigo_Regiao'], axis=1, inplace=True)\n",
    "df_regioes.head()"
   ]
  },
  {
   "cell_type": "markdown",
   "metadata": {},
   "source": [
    "**18.Verifica tipos dados dataframe**"
   ]
  },
  {
   "cell_type": "code",
   "execution_count": 219,
   "metadata": {
    "scrolled": true
   },
   "outputs": [
    {
     "name": "stdout",
     "output_type": "stream",
     "text": [
      "<class 'pandas.core.frame.DataFrame'>\n",
      "RangeIndex: 872 entries, 0 to 871\n",
      "Data columns (total 2 columns):\n",
      " #   Column       Non-Null Count  Dtype \n",
      "---  ------       --------------  ----- \n",
      " 0   Nome_Regiao  871 non-null    object\n",
      " 1   Municipio    870 non-null    object\n",
      "dtypes: object(2)\n",
      "memory usage: 13.8+ KB\n"
     ]
    }
   ],
   "source": [
    "df_regioes.info()"
   ]
  },
  {
   "cell_type": "markdown",
   "metadata": {},
   "source": [
    "**19.Alterar tipos das colunas para o tipo do dado correspondente**"
   ]
  },
  {
   "cell_type": "code",
   "execution_count": 220,
   "metadata": {},
   "outputs": [
    {
     "name": "stdout",
     "output_type": "stream",
     "text": [
      "<class 'pandas.core.frame.DataFrame'>\n",
      "RangeIndex: 872 entries, 0 to 871\n",
      "Data columns (total 2 columns):\n",
      " #   Column       Non-Null Count  Dtype \n",
      "---  ------       --------------  ----- \n",
      " 0   Nome_Regiao  871 non-null    string\n",
      " 1   Municipio    870 non-null    string\n",
      "dtypes: string(2)\n",
      "memory usage: 13.8 KB\n"
     ]
    }
   ],
   "source": [
    "##Tipos String\n",
    "df_regioes['Nome_Regiao'] = df_regioes['Nome_Regiao'].astype('string')\n",
    "df_regioes['Municipio'] = df_regioes['Municipio'].astype('string')\n",
    "\n",
    "df_regioes.info()"
   ]
  },
  {
   "cell_type": "markdown",
   "metadata": {},
   "source": [
    "**19.Verifica consistência dos dados (o dataframe apresenta quantidade de dados não nulos diferentes para cada coluna)**"
   ]
  },
  {
   "cell_type": "code",
   "execution_count": 221,
   "metadata": {
    "scrolled": true
   },
   "outputs": [
    {
     "data": {
      "text/html": [
       "<div>\n",
       "<style scoped>\n",
       "    .dataframe tbody tr th:only-of-type {\n",
       "        vertical-align: middle;\n",
       "    }\n",
       "\n",
       "    .dataframe tbody tr th {\n",
       "        vertical-align: top;\n",
       "    }\n",
       "\n",
       "    .dataframe thead th {\n",
       "        text-align: right;\n",
       "    }\n",
       "</style>\n",
       "<table border=\"1\" class=\"dataframe\">\n",
       "  <thead>\n",
       "    <tr style=\"text-align: right;\">\n",
       "      <th></th>\n",
       "      <th>Nome_Regiao</th>\n",
       "      <th>Municipio</th>\n",
       "    </tr>\n",
       "  </thead>\n",
       "  <tbody>\n",
       "    <tr>\n",
       "      <th>101</th>\n",
       "      <td>Nome da\r",
       "Região de Planejamento</td>\n",
       "      <td>Município</td>\n",
       "    </tr>\n",
       "    <tr>\n",
       "      <th>152</th>\n",
       "      <td>Nome da\r",
       "Região de Planejamento</td>\n",
       "      <td>Município</td>\n",
       "    </tr>\n",
       "    <tr>\n",
       "      <th>203</th>\n",
       "      <td>Nome da\r",
       "Região de Planejamento</td>\n",
       "      <td>Município</td>\n",
       "    </tr>\n",
       "    <tr>\n",
       "      <th>254</th>\n",
       "      <td>Nome da\r",
       "Região de Planejamento</td>\n",
       "      <td>Município</td>\n",
       "    </tr>\n",
       "    <tr>\n",
       "      <th>305</th>\n",
       "      <td>Nome da\r",
       "Região de Planejamento</td>\n",
       "      <td>Município</td>\n",
       "    </tr>\n",
       "    <tr>\n",
       "      <th>356</th>\n",
       "      <td>Nome da\r",
       "Região de Planejamento</td>\n",
       "      <td>Município</td>\n",
       "    </tr>\n",
       "    <tr>\n",
       "      <th>407</th>\n",
       "      <td>Nome da\r",
       "Região de Planejamento</td>\n",
       "      <td>Município</td>\n",
       "    </tr>\n",
       "    <tr>\n",
       "      <th>458</th>\n",
       "      <td>Nome da\r",
       "Região de Planejamento</td>\n",
       "      <td>Município</td>\n",
       "    </tr>\n",
       "    <tr>\n",
       "      <th>509</th>\n",
       "      <td>Nome da\r",
       "Região de Planejamento</td>\n",
       "      <td>Município</td>\n",
       "    </tr>\n",
       "    <tr>\n",
       "      <th>560</th>\n",
       "      <td>Nome da\r",
       "Região de Planejamento</td>\n",
       "      <td>Município</td>\n",
       "    </tr>\n",
       "    <tr>\n",
       "      <th>611</th>\n",
       "      <td>Nome da\r",
       "Região de Planejamento</td>\n",
       "      <td>Município</td>\n",
       "    </tr>\n",
       "    <tr>\n",
       "      <th>662</th>\n",
       "      <td>Nome da\r",
       "Região de Planejamento</td>\n",
       "      <td>Município</td>\n",
       "    </tr>\n",
       "    <tr>\n",
       "      <th>713</th>\n",
       "      <td>Nome da\r",
       "Região de Planejamento</td>\n",
       "      <td>Município</td>\n",
       "    </tr>\n",
       "    <tr>\n",
       "      <th>764</th>\n",
       "      <td>Nome da\r",
       "Região de Planejamento</td>\n",
       "      <td>Município</td>\n",
       "    </tr>\n",
       "    <tr>\n",
       "      <th>815</th>\n",
       "      <td>Nome da\r",
       "Região de Planejamento</td>\n",
       "      <td>Município</td>\n",
       "    </tr>\n",
       "  </tbody>\n",
       "</table>\n",
       "</div>"
      ],
      "text/plain": [
       "                        Nome_Regiao  Municipio\n",
       "101  Nome da\n",
       "Região de Planejamento  Município\n",
       "152  Nome da\n",
       "Região de Planejamento  Município\n",
       "203  Nome da\n",
       "Região de Planejamento  Município\n",
       "254  Nome da\n",
       "Região de Planejamento  Município\n",
       "305  Nome da\n",
       "Região de Planejamento  Município\n",
       "356  Nome da\n",
       "Região de Planejamento  Município\n",
       "407  Nome da\n",
       "Região de Planejamento  Município\n",
       "458  Nome da\n",
       "Região de Planejamento  Município\n",
       "509  Nome da\n",
       "Região de Planejamento  Município\n",
       "560  Nome da\n",
       "Região de Planejamento  Município\n",
       "611  Nome da\n",
       "Região de Planejamento  Município\n",
       "662  Nome da\n",
       "Região de Planejamento  Município\n",
       "713  Nome da\n",
       "Região de Planejamento  Município\n",
       "764  Nome da\n",
       "Região de Planejamento  Município\n",
       "815  Nome da\n",
       "Região de Planejamento  Município"
      ]
     },
     "execution_count": 221,
     "metadata": {},
     "output_type": "execute_result"
    }
   ],
   "source": [
    "#Dados repetidos\n",
    "df_regioes[df_regioes.duplicated()]\n"
   ]
  },
  {
   "cell_type": "code",
   "execution_count": 224,
   "metadata": {},
   "outputs": [
    {
     "data": {
      "text/html": [
       "<div>\n",
       "<style scoped>\n",
       "    .dataframe tbody tr th:only-of-type {\n",
       "        vertical-align: middle;\n",
       "    }\n",
       "\n",
       "    .dataframe tbody tr th {\n",
       "        vertical-align: top;\n",
       "    }\n",
       "\n",
       "    .dataframe thead th {\n",
       "        text-align: right;\n",
       "    }\n",
       "</style>\n",
       "<table border=\"1\" class=\"dataframe\">\n",
       "  <thead>\n",
       "    <tr style=\"text-align: right;\">\n",
       "      <th></th>\n",
       "      <th>Nome_Regiao</th>\n",
       "      <th>Municipio</th>\n",
       "    </tr>\n",
       "  </thead>\n",
       "  <tbody>\n",
       "  </tbody>\n",
       "</table>\n",
       "</div>"
      ],
      "text/plain": [
       "Empty DataFrame\n",
       "Columns: [Nome_Regiao, Municipio]\n",
       "Index: []"
      ]
     },
     "execution_count": 224,
     "metadata": {},
     "output_type": "execute_result"
    }
   ],
   "source": [
    "#Remover linhas com dados de cabecalho\n",
    "filtro_cabecalho_municipio = df_regioes['Municipio'] != 'Município'\n",
    "filtro_cabecalho_regiao = df_regioes['Nome_Regiao'] != 'Nome da Região de Planejamento'\n",
    "df_regioes = df_regioes[filtro_cabecalho_municipio]\n",
    "df_regioes = df_regioes[filtro_cabecalho_regiao]\n",
    "df_regioes[df_regioes.duplicated()]\n"
   ]
  },
  {
   "cell_type": "code",
   "execution_count": 234,
   "metadata": {
    "scrolled": true
   },
   "outputs": [
    {
     "name": "stdout",
     "output_type": "stream",
     "text": [
      "Regioes <StringArray>\n",
      "[             'Central',                 'Mata',         'Sul de Minas',\n",
      "            'Triângulo',       'Alto Paranaíba',         'Centro-Oeste',\n",
      "             'Noroeste',                'Norte', 'Jequitinhonha-Mucuri',\n",
      "             'Rio Doce']\n",
      "Length: 10, dtype: string\n",
      "Quantidade de municipios com nome errado 0\n"
     ]
    }
   ],
   "source": [
    "#Verificar se ainda existe dados de cabecalhos\n",
    "print('Regioes', df_regioes[\"Nome_Regiao\"].unique())\n",
    "\n",
    "print('Quantidade de municipios com nome errado', len(df_regioes[df_regioes[\"Municipio\"] == 'Município']))\n"
   ]
  },
  {
   "cell_type": "markdown",
   "metadata": {},
   "source": [
    "**20.Descreve a estrutura do dataframe de regiões**"
   ]
  },
  {
   "cell_type": "code",
   "execution_count": 235,
   "metadata": {
    "scrolled": true
   },
   "outputs": [
    {
     "name": "stdout",
     "output_type": "stream",
     "text": [
      "<class 'pandas.core.frame.DataFrame'>\n",
      "Int64Index: 853 entries, 0 to 871\n",
      "Data columns (total 2 columns):\n",
      " #   Column       Non-Null Count  Dtype \n",
      "---  ------       --------------  ----- \n",
      " 0   Nome_Regiao  853 non-null    string\n",
      " 1   Municipio    853 non-null    string\n",
      "dtypes: string(2)\n",
      "memory usage: 20.0 KB\n"
     ]
    }
   ],
   "source": [
    "df_regioes.info()"
   ]
  },
  {
   "cell_type": "markdown",
   "metadata": {},
   "source": [
    "**21.Salva dataframe de regioes tratado em arquivo compactado**"
   ]
  },
  {
   "cell_type": "code",
   "execution_count": 236,
   "metadata": {},
   "outputs": [],
   "source": [
    "caminho_df_v1 = './v1'\n",
    "opcoes_zip = dict(method='zip', archive_name='regioes.csv')\n",
    "df_regioes.to_csv(os.path.join(caminho_df_v1, 'regioes.zip'), index=False, compression=opcoes_zip)"
   ]
  },
  {
   "cell_type": "code",
   "execution_count": null,
   "metadata": {},
   "outputs": [],
   "source": []
  }
 ],
 "metadata": {
  "kernelspec": {
   "display_name": "Python 3",
   "language": "python",
   "name": "python3"
  },
  "language_info": {
   "codemirror_mode": {
    "name": "ipython",
    "version": 3
   },
   "file_extension": ".py",
   "mimetype": "text/x-python",
   "name": "python",
   "nbconvert_exporter": "python",
   "pygments_lexer": "ipython3",
   "version": "3.8.3"
  }
 },
 "nbformat": 4,
 "nbformat_minor": 4
}
