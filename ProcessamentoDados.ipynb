{
 "cells": [
  {
   "cell_type": "markdown",
   "metadata": {},
   "source": [
    "## Preparação ambiente"
   ]
  },
  {
   "cell_type": "code",
   "execution_count": 1,
   "metadata": {},
   "outputs": [],
   "source": [
    "#Importa os pacotes\n",
    "import pandas as pd\n",
    "import os\n",
    "import numpy as np"
   ]
  },
  {
   "cell_type": "code",
   "execution_count": 2,
   "metadata": {},
   "outputs": [],
   "source": [
    "#Define caminho para datasets\n",
    "caminho_precos_por_semestre = './v0/PrecosAgrupadosPorSemestre'\n",
    "caminho_precos_por_mes = './v0/PrecosAgrupadosPorMes'\n",
    "caminho_precos_ultimas_semanas = './v0/PrecosQuatroUltimasSemanas'\n"
   ]
  },
  {
   "cell_type": "markdown",
   "metadata": {},
   "source": [
    "**1.Verifica estrutura arquivos de Histórico**\n",
    "\n"
   ]
  },
  {
   "cell_type": "code",
   "execution_count": 3,
   "metadata": {},
   "outputs": [
    {
     "name": "stdout",
     "output_type": "stream",
     "text": [
      "                                                          Região - Sigla\\tEstado - Sigla\\tMunicípio\\tRevenda\\tCNPJ da Revenda\\tProduto\\tData da Coleta\\tValor de Venda\\tValor de Compra\\tUnidade de Medida\\tBandeira\n",
      "CO\\tDF\\tBRASILIA\\tABRITTA POSTOS DE SERVIÇOS LT... 499\\t2                           8903\\tR$ / litro\\tRAIZEN                                                                                                        \n",
      "CO\\tDF\\tBRASILIA\\tABRITTA POSTOS DE SERVIÇOS LT... 399\\t2                           8287\\tR$ / litro\\tRAIZEN                                                                                                        \n",
      "CO\\tDF\\tBRASILIA\\tABRITTA POSTOS DE SERVIÇOS LT... 25\\t2                            5921\\tR$ / litro\\tRAIZEN                                                                                                        \n",
      "CO\\tDF\\tBRASILIA\\tABRITTA POSTOS DE SERVIÇOS LT... 499\\t2                           8903\\tR$ / litro\\tRAIZEN                                                                                                        \n",
      "CO\\tDF\\tBRASILIA\\tABRITTA POSTOS DE SERVIÇOS LT... 399\\t2                           8336\\tR$ / litro\\tRAIZEN                                                                                                        \n",
      "CO\\tDF\\tBRASILIA\\tABRITTA POSTOS DE SERVIÇOS LT... 399\\t2                           8275\\tR$ / litro\\tRAIZEN                                                                                                        \n",
      "CO\\tDF\\tBRASILIA\\tABRITTA POSTOS DE SERVIÇOS LT... 499\\t2                           8903\\tR$ / litro\\tRAIZEN                                                                                                        \n",
      "CO\\tDF\\tBRASILIA\\tABRITTA POSTOS DE SERVIÇOS LT... 399\\t2                           8336\\tR$ / litro\\tRAIZEN                                                                                                        \n",
      "CO\\tDF\\tBRASILIA\\tABRITTA POSTOS DE SERVIÇOS LT... 399\\t2                           8275\\tR$ / litro\\tRAIZEN                                                                                                        \n",
      "CO\\tDF\\tBRASILIA\\tABRITTA POSTOS DE SERVIÇOS LT... 499\\t2                           8903\\tR$ / litro\\tRAIZEN                                                                                                        \n"
     ]
    }
   ],
   "source": [
    "example_file_path = os.path.join(caminho_precos_por_semestre, os.listdir(caminho_precos_por_semestre)[0]) \n",
    "\n",
    "example_file = pd.read_csv(example_file_path, nrows=10, encoding=\"utf-16\")\n",
    "\n",
    "print(example_file)"
   ]
  },
  {
   "cell_type": "markdown",
   "metadata": {},
   "source": [
    "**2.Cria DataFrame Pandas para armazenar os dados dos datasets de histórico de preço**"
   ]
  },
  {
   "cell_type": "code",
   "execution_count": 4,
   "metadata": {},
   "outputs": [
    {
     "data": {
      "text/html": [
       "<div>\n",
       "<style scoped>\n",
       "    .dataframe tbody tr th:only-of-type {\n",
       "        vertical-align: middle;\n",
       "    }\n",
       "\n",
       "    .dataframe tbody tr th {\n",
       "        vertical-align: top;\n",
       "    }\n",
       "\n",
       "    .dataframe thead th {\n",
       "        text-align: right;\n",
       "    }\n",
       "</style>\n",
       "<table border=\"1\" class=\"dataframe\">\n",
       "  <thead>\n",
       "    <tr style=\"text-align: right;\">\n",
       "      <th></th>\n",
       "      <th>Região - Sigla</th>\n",
       "      <th>Estado - Sigla</th>\n",
       "      <th>Município</th>\n",
       "      <th>Revenda</th>\n",
       "      <th>CNPJ da Revenda</th>\n",
       "      <th>Produto</th>\n",
       "      <th>Data da Coleta</th>\n",
       "      <th>Valor de Venda</th>\n",
       "      <th>Valor de Compra</th>\n",
       "      <th>Unidade de Medida</th>\n",
       "      <th>Bandeira</th>\n",
       "    </tr>\n",
       "  </thead>\n",
       "  <tbody>\n",
       "    <tr>\n",
       "      <th>0</th>\n",
       "      <td>CO</td>\n",
       "      <td>DF</td>\n",
       "      <td>BRASILIA</td>\n",
       "      <td>ABRITTA POSTOS DE SERVIÇOS LTDA</td>\n",
       "      <td>10668863000195</td>\n",
       "      <td>ETANOL</td>\n",
       "      <td>02/03/2016</td>\n",
       "      <td>3,499</td>\n",
       "      <td>2,8903</td>\n",
       "      <td>R$ / litro</td>\n",
       "      <td>RAIZEN</td>\n",
       "    </tr>\n",
       "    <tr>\n",
       "      <th>1</th>\n",
       "      <td>CO</td>\n",
       "      <td>DF</td>\n",
       "      <td>BRASILIA</td>\n",
       "      <td>ABRITTA POSTOS DE SERVIÇOS LTDA</td>\n",
       "      <td>10668863000195</td>\n",
       "      <td>ETANOL</td>\n",
       "      <td>03/02/2016</td>\n",
       "      <td>3,399</td>\n",
       "      <td>2,8287</td>\n",
       "      <td>R$ / litro</td>\n",
       "      <td>RAIZEN</td>\n",
       "    </tr>\n",
       "    <tr>\n",
       "      <th>2</th>\n",
       "      <td>CO</td>\n",
       "      <td>DF</td>\n",
       "      <td>BRASILIA</td>\n",
       "      <td>ABRITTA POSTOS DE SERVIÇOS LTDA</td>\n",
       "      <td>10668863000195</td>\n",
       "      <td>ETANOL</td>\n",
       "      <td>05/01/2016</td>\n",
       "      <td>3,25</td>\n",
       "      <td>2,5921</td>\n",
       "      <td>R$ / litro</td>\n",
       "      <td>RAIZEN</td>\n",
       "    </tr>\n",
       "    <tr>\n",
       "      <th>3</th>\n",
       "      <td>CO</td>\n",
       "      <td>DF</td>\n",
       "      <td>BRASILIA</td>\n",
       "      <td>ABRITTA POSTOS DE SERVIÇOS LTDA</td>\n",
       "      <td>10668863000195</td>\n",
       "      <td>ETANOL</td>\n",
       "      <td>09/03/2016</td>\n",
       "      <td>3,499</td>\n",
       "      <td>2,8903</td>\n",
       "      <td>R$ / litro</td>\n",
       "      <td>RAIZEN</td>\n",
       "    </tr>\n",
       "    <tr>\n",
       "      <th>4</th>\n",
       "      <td>CO</td>\n",
       "      <td>DF</td>\n",
       "      <td>BRASILIA</td>\n",
       "      <td>ABRITTA POSTOS DE SERVIÇOS LTDA</td>\n",
       "      <td>10668863000195</td>\n",
       "      <td>ETANOL</td>\n",
       "      <td>11/02/2016</td>\n",
       "      <td>3,399</td>\n",
       "      <td>2,8336</td>\n",
       "      <td>R$ / litro</td>\n",
       "      <td>RAIZEN</td>\n",
       "    </tr>\n",
       "  </tbody>\n",
       "</table>\n",
       "</div>"
      ],
      "text/plain": [
       "  Região - Sigla Estado - Sigla Município                          Revenda  \\\n",
       "0             CO             DF  BRASILIA  ABRITTA POSTOS DE SERVIÇOS LTDA   \n",
       "1             CO             DF  BRASILIA  ABRITTA POSTOS DE SERVIÇOS LTDA   \n",
       "2             CO             DF  BRASILIA  ABRITTA POSTOS DE SERVIÇOS LTDA   \n",
       "3             CO             DF  BRASILIA  ABRITTA POSTOS DE SERVIÇOS LTDA   \n",
       "4             CO             DF  BRASILIA  ABRITTA POSTOS DE SERVIÇOS LTDA   \n",
       "\n",
       "   CNPJ da Revenda Produto Data da Coleta Valor de Venda Valor de Compra  \\\n",
       "0   10668863000195  ETANOL     02/03/2016          3,499          2,8903   \n",
       "1   10668863000195  ETANOL     03/02/2016          3,399          2,8287   \n",
       "2   10668863000195  ETANOL     05/01/2016           3,25          2,5921   \n",
       "3   10668863000195  ETANOL     09/03/2016          3,499          2,8903   \n",
       "4   10668863000195  ETANOL     11/02/2016          3,399          2,8336   \n",
       "\n",
       "  Unidade de Medida Bandeira  \n",
       "0        R$ / litro   RAIZEN  \n",
       "1        R$ / litro   RAIZEN  \n",
       "2        R$ / litro   RAIZEN  \n",
       "3        R$ / litro   RAIZEN  \n",
       "4        R$ / litro   RAIZEN  "
      ]
     },
     "execution_count": 4,
     "metadata": {},
     "output_type": "execute_result"
    }
   ],
   "source": [
    "lista_df_temp = []\n",
    "\n",
    "#carrega arquivos agrupados por semestre\n",
    "for file_path in os.listdir(caminho_precos_por_semestre):    \n",
    "    lista_df_temp.append(pd.read_csv(os.path.join(caminho_precos_por_semestre, file_path), encoding = 'utf-16', sep= '\\t'))    \n",
    "    \n",
    "#carrega arquivos agrupados por mes\n",
    "for file_path in os.listdir(caminho_precos_por_mes):    \n",
    "    lista_df_temp.append(pd.read_csv(os.path.join(caminho_precos_por_mes, file_path), encoding = 'utf-16', sep= '\\t'))        \n",
    "\n",
    "#carrega arquivos das ultimas semanas\n",
    "for file_path in os.listdir(caminho_precos_ultimas_semanas):    \n",
    "    lista_df_temp.append(pd.read_csv(os.path.join(caminho_precos_ultimas_semanas, file_path), encoding = 'utf-16', sep= '\\t'))            \n",
    "\n",
    "df = pd.DataFrame()\n",
    "   \n",
    "#concatena todos dataframes temporarios em um unico\n",
    "df = pd.concat(lista_df_temp, axis=0, ignore_index=True)\n",
    "\n",
    "#apaga lista de dataframes temporarios\n",
    "del lista_df_temp\n",
    "\n",
    "#imprime primeiras linhas dataframe\n",
    "df.head()"
   ]
  },
  {
   "cell_type": "markdown",
   "metadata": {},
   "source": [
    "**3.Verifica metadados dataset (quantidade de linhas, colunas)**"
   ]
  },
  {
   "cell_type": "code",
   "execution_count": 5,
   "metadata": {
    "scrolled": true
   },
   "outputs": [
    {
     "data": {
      "text/html": [
       "<div>\n",
       "<style scoped>\n",
       "    .dataframe tbody tr th:only-of-type {\n",
       "        vertical-align: middle;\n",
       "    }\n",
       "\n",
       "    .dataframe tbody tr th {\n",
       "        vertical-align: top;\n",
       "    }\n",
       "\n",
       "    .dataframe thead th {\n",
       "        text-align: right;\n",
       "    }\n",
       "</style>\n",
       "<table border=\"1\" class=\"dataframe\">\n",
       "  <thead>\n",
       "    <tr style=\"text-align: right;\">\n",
       "      <th></th>\n",
       "      <th>Região - Sigla</th>\n",
       "      <th>Estado - Sigla</th>\n",
       "      <th>Município</th>\n",
       "      <th>Revenda</th>\n",
       "      <th>CNPJ da Revenda</th>\n",
       "      <th>Produto</th>\n",
       "      <th>Data da Coleta</th>\n",
       "      <th>Valor de Venda</th>\n",
       "      <th>Valor de Compra</th>\n",
       "      <th>Unidade de Medida</th>\n",
       "      <th>Bandeira</th>\n",
       "    </tr>\n",
       "  </thead>\n",
       "  <tbody>\n",
       "    <tr>\n",
       "      <th>count</th>\n",
       "      <td>4451631</td>\n",
       "      <td>4451631</td>\n",
       "      <td>4451631</td>\n",
       "      <td>4451631</td>\n",
       "      <td>4.451631e+06</td>\n",
       "      <td>4451631</td>\n",
       "      <td>4451631</td>\n",
       "      <td>4451631</td>\n",
       "      <td>1694692</td>\n",
       "      <td>4451631</td>\n",
       "      <td>4451631</td>\n",
       "    </tr>\n",
       "    <tr>\n",
       "      <th>unique</th>\n",
       "      <td>7</td>\n",
       "      <td>27</td>\n",
       "      <td>500</td>\n",
       "      <td>19235</td>\n",
       "      <td>NaN</td>\n",
       "      <td>5</td>\n",
       "      <td>1037</td>\n",
       "      <td>5508</td>\n",
       "      <td>52968</td>\n",
       "      <td>1</td>\n",
       "      <td>88</td>\n",
       "    </tr>\n",
       "    <tr>\n",
       "      <th>top</th>\n",
       "      <td>SE</td>\n",
       "      <td>SP</td>\n",
       "      <td>SAO PAULO</td>\n",
       "      <td>SIM REDE DE POSTOS LTDA</td>\n",
       "      <td>NaN</td>\n",
       "      <td>GASOLINA</td>\n",
       "      <td>17/08/2020</td>\n",
       "      <td>2,999</td>\n",
       "      <td>3,05</td>\n",
       "      <td>R$ / litro</td>\n",
       "      <td>BRANCA</td>\n",
       "    </tr>\n",
       "    <tr>\n",
       "      <th>freq</th>\n",
       "      <td>2163376</td>\n",
       "      <td>1271548</td>\n",
       "      <td>119440</td>\n",
       "      <td>13843</td>\n",
       "      <td>NaN</td>\n",
       "      <td>1353344</td>\n",
       "      <td>18314</td>\n",
       "      <td>103169</td>\n",
       "      <td>2351</td>\n",
       "      <td>4451631</td>\n",
       "      <td>1414638</td>\n",
       "    </tr>\n",
       "    <tr>\n",
       "      <th>mean</th>\n",
       "      <td>NaN</td>\n",
       "      <td>NaN</td>\n",
       "      <td>NaN</td>\n",
       "      <td>NaN</td>\n",
       "      <td>2.149301e+13</td>\n",
       "      <td>NaN</td>\n",
       "      <td>NaN</td>\n",
       "      <td>NaN</td>\n",
       "      <td>NaN</td>\n",
       "      <td>NaN</td>\n",
       "      <td>NaN</td>\n",
       "    </tr>\n",
       "    <tr>\n",
       "      <th>std</th>\n",
       "      <td>NaN</td>\n",
       "      <td>NaN</td>\n",
       "      <td>NaN</td>\n",
       "      <td>NaN</td>\n",
       "      <td>2.446813e+13</td>\n",
       "      <td>NaN</td>\n",
       "      <td>NaN</td>\n",
       "      <td>NaN</td>\n",
       "      <td>NaN</td>\n",
       "      <td>NaN</td>\n",
       "      <td>NaN</td>\n",
       "    </tr>\n",
       "    <tr>\n",
       "      <th>min</th>\n",
       "      <td>NaN</td>\n",
       "      <td>NaN</td>\n",
       "      <td>NaN</td>\n",
       "      <td>NaN</td>\n",
       "      <td>1.388000e+09</td>\n",
       "      <td>NaN</td>\n",
       "      <td>NaN</td>\n",
       "      <td>NaN</td>\n",
       "      <td>NaN</td>\n",
       "      <td>NaN</td>\n",
       "      <td>NaN</td>\n",
       "    </tr>\n",
       "    <tr>\n",
       "      <th>25%</th>\n",
       "      <td>NaN</td>\n",
       "      <td>NaN</td>\n",
       "      <td>NaN</td>\n",
       "      <td>NaN</td>\n",
       "      <td>4.802584e+12</td>\n",
       "      <td>NaN</td>\n",
       "      <td>NaN</td>\n",
       "      <td>NaN</td>\n",
       "      <td>NaN</td>\n",
       "      <td>NaN</td>\n",
       "      <td>NaN</td>\n",
       "    </tr>\n",
       "    <tr>\n",
       "      <th>50%</th>\n",
       "      <td>NaN</td>\n",
       "      <td>NaN</td>\n",
       "      <td>NaN</td>\n",
       "      <td>NaN</td>\n",
       "      <td>1.038414e+13</td>\n",
       "      <td>NaN</td>\n",
       "      <td>NaN</td>\n",
       "      <td>NaN</td>\n",
       "      <td>NaN</td>\n",
       "      <td>NaN</td>\n",
       "      <td>NaN</td>\n",
       "    </tr>\n",
       "    <tr>\n",
       "      <th>75%</th>\n",
       "      <td>NaN</td>\n",
       "      <td>NaN</td>\n",
       "      <td>NaN</td>\n",
       "      <td>NaN</td>\n",
       "      <td>2.880963e+13</td>\n",
       "      <td>NaN</td>\n",
       "      <td>NaN</td>\n",
       "      <td>NaN</td>\n",
       "      <td>NaN</td>\n",
       "      <td>NaN</td>\n",
       "      <td>NaN</td>\n",
       "    </tr>\n",
       "    <tr>\n",
       "      <th>max</th>\n",
       "      <td>NaN</td>\n",
       "      <td>NaN</td>\n",
       "      <td>NaN</td>\n",
       "      <td>NaN</td>\n",
       "      <td>9.874986e+13</td>\n",
       "      <td>NaN</td>\n",
       "      <td>NaN</td>\n",
       "      <td>NaN</td>\n",
       "      <td>NaN</td>\n",
       "      <td>NaN</td>\n",
       "      <td>NaN</td>\n",
       "    </tr>\n",
       "  </tbody>\n",
       "</table>\n",
       "</div>"
      ],
      "text/plain": [
       "       Região - Sigla Estado - Sigla  Município                  Revenda  \\\n",
       "count         4451631        4451631    4451631                  4451631   \n",
       "unique              7             27        500                    19235   \n",
       "top                SE             SP  SAO PAULO  SIM REDE DE POSTOS LTDA   \n",
       "freq          2163376        1271548     119440                    13843   \n",
       "mean              NaN            NaN        NaN                      NaN   \n",
       "std               NaN            NaN        NaN                      NaN   \n",
       "min               NaN            NaN        NaN                      NaN   \n",
       "25%               NaN            NaN        NaN                      NaN   \n",
       "50%               NaN            NaN        NaN                      NaN   \n",
       "75%               NaN            NaN        NaN                      NaN   \n",
       "max               NaN            NaN        NaN                      NaN   \n",
       "\n",
       "        CNPJ da Revenda   Produto Data da Coleta Valor de Venda  \\\n",
       "count      4.451631e+06   4451631        4451631        4451631   \n",
       "unique              NaN         5           1037           5508   \n",
       "top                 NaN  GASOLINA     17/08/2020          2,999   \n",
       "freq                NaN   1353344          18314         103169   \n",
       "mean       2.149301e+13       NaN            NaN            NaN   \n",
       "std        2.446813e+13       NaN            NaN            NaN   \n",
       "min        1.388000e+09       NaN            NaN            NaN   \n",
       "25%        4.802584e+12       NaN            NaN            NaN   \n",
       "50%        1.038414e+13       NaN            NaN            NaN   \n",
       "75%        2.880963e+13       NaN            NaN            NaN   \n",
       "max        9.874986e+13       NaN            NaN            NaN   \n",
       "\n",
       "       Valor de Compra Unidade de Medida Bandeira  \n",
       "count          1694692           4451631  4451631  \n",
       "unique           52968                 1       88  \n",
       "top               3,05        R$ / litro   BRANCA  \n",
       "freq              2351           4451631  1414638  \n",
       "mean               NaN               NaN      NaN  \n",
       "std                NaN               NaN      NaN  \n",
       "min                NaN               NaN      NaN  \n",
       "25%                NaN               NaN      NaN  \n",
       "50%                NaN               NaN      NaN  \n",
       "75%                NaN               NaN      NaN  \n",
       "max                NaN               NaN      NaN  "
      ]
     },
     "execution_count": 5,
     "metadata": {},
     "output_type": "execute_result"
    }
   ],
   "source": [
    "df.describe(include='all')"
   ]
  },
  {
   "cell_type": "markdown",
   "metadata": {},
   "source": [
    "**4.Altera nome colunas dataframe**"
   ]
  },
  {
   "cell_type": "code",
   "execution_count": 6,
   "metadata": {
    "scrolled": false
   },
   "outputs": [
    {
     "data": {
      "text/html": [
       "<div>\n",
       "<style scoped>\n",
       "    .dataframe tbody tr th:only-of-type {\n",
       "        vertical-align: middle;\n",
       "    }\n",
       "\n",
       "    .dataframe tbody tr th {\n",
       "        vertical-align: top;\n",
       "    }\n",
       "\n",
       "    .dataframe thead th {\n",
       "        text-align: right;\n",
       "    }\n",
       "</style>\n",
       "<table border=\"1\" class=\"dataframe\">\n",
       "  <thead>\n",
       "    <tr style=\"text-align: right;\">\n",
       "      <th></th>\n",
       "      <th>Regiao</th>\n",
       "      <th>Estado</th>\n",
       "      <th>Municipio</th>\n",
       "      <th>Revenda</th>\n",
       "      <th>CNPJ_Revenda</th>\n",
       "      <th>Produto</th>\n",
       "      <th>Data_Coleta</th>\n",
       "      <th>Valor_Venda</th>\n",
       "      <th>Valor_Compra</th>\n",
       "      <th>Unidade_Medida</th>\n",
       "      <th>Bandeira</th>\n",
       "    </tr>\n",
       "  </thead>\n",
       "  <tbody>\n",
       "    <tr>\n",
       "      <th>0</th>\n",
       "      <td>CO</td>\n",
       "      <td>DF</td>\n",
       "      <td>BRASILIA</td>\n",
       "      <td>ABRITTA POSTOS DE SERVIÇOS LTDA</td>\n",
       "      <td>10668863000195</td>\n",
       "      <td>ETANOL</td>\n",
       "      <td>02/03/2016</td>\n",
       "      <td>3,499</td>\n",
       "      <td>2,8903</td>\n",
       "      <td>R$ / litro</td>\n",
       "      <td>RAIZEN</td>\n",
       "    </tr>\n",
       "    <tr>\n",
       "      <th>1</th>\n",
       "      <td>CO</td>\n",
       "      <td>DF</td>\n",
       "      <td>BRASILIA</td>\n",
       "      <td>ABRITTA POSTOS DE SERVIÇOS LTDA</td>\n",
       "      <td>10668863000195</td>\n",
       "      <td>ETANOL</td>\n",
       "      <td>03/02/2016</td>\n",
       "      <td>3,399</td>\n",
       "      <td>2,8287</td>\n",
       "      <td>R$ / litro</td>\n",
       "      <td>RAIZEN</td>\n",
       "    </tr>\n",
       "    <tr>\n",
       "      <th>2</th>\n",
       "      <td>CO</td>\n",
       "      <td>DF</td>\n",
       "      <td>BRASILIA</td>\n",
       "      <td>ABRITTA POSTOS DE SERVIÇOS LTDA</td>\n",
       "      <td>10668863000195</td>\n",
       "      <td>ETANOL</td>\n",
       "      <td>05/01/2016</td>\n",
       "      <td>3,25</td>\n",
       "      <td>2,5921</td>\n",
       "      <td>R$ / litro</td>\n",
       "      <td>RAIZEN</td>\n",
       "    </tr>\n",
       "    <tr>\n",
       "      <th>3</th>\n",
       "      <td>CO</td>\n",
       "      <td>DF</td>\n",
       "      <td>BRASILIA</td>\n",
       "      <td>ABRITTA POSTOS DE SERVIÇOS LTDA</td>\n",
       "      <td>10668863000195</td>\n",
       "      <td>ETANOL</td>\n",
       "      <td>09/03/2016</td>\n",
       "      <td>3,499</td>\n",
       "      <td>2,8903</td>\n",
       "      <td>R$ / litro</td>\n",
       "      <td>RAIZEN</td>\n",
       "    </tr>\n",
       "    <tr>\n",
       "      <th>4</th>\n",
       "      <td>CO</td>\n",
       "      <td>DF</td>\n",
       "      <td>BRASILIA</td>\n",
       "      <td>ABRITTA POSTOS DE SERVIÇOS LTDA</td>\n",
       "      <td>10668863000195</td>\n",
       "      <td>ETANOL</td>\n",
       "      <td>11/02/2016</td>\n",
       "      <td>3,399</td>\n",
       "      <td>2,8336</td>\n",
       "      <td>R$ / litro</td>\n",
       "      <td>RAIZEN</td>\n",
       "    </tr>\n",
       "  </tbody>\n",
       "</table>\n",
       "</div>"
      ],
      "text/plain": [
       "  Regiao Estado Municipio                          Revenda    CNPJ_Revenda  \\\n",
       "0     CO     DF  BRASILIA  ABRITTA POSTOS DE SERVIÇOS LTDA  10668863000195   \n",
       "1     CO     DF  BRASILIA  ABRITTA POSTOS DE SERVIÇOS LTDA  10668863000195   \n",
       "2     CO     DF  BRASILIA  ABRITTA POSTOS DE SERVIÇOS LTDA  10668863000195   \n",
       "3     CO     DF  BRASILIA  ABRITTA POSTOS DE SERVIÇOS LTDA  10668863000195   \n",
       "4     CO     DF  BRASILIA  ABRITTA POSTOS DE SERVIÇOS LTDA  10668863000195   \n",
       "\n",
       "  Produto Data_Coleta Valor_Venda Valor_Compra Unidade_Medida Bandeira  \n",
       "0  ETANOL  02/03/2016       3,499       2,8903     R$ / litro   RAIZEN  \n",
       "1  ETANOL  03/02/2016       3,399       2,8287     R$ / litro   RAIZEN  \n",
       "2  ETANOL  05/01/2016        3,25       2,5921     R$ / litro   RAIZEN  \n",
       "3  ETANOL  09/03/2016       3,499       2,8903     R$ / litro   RAIZEN  \n",
       "4  ETANOL  11/02/2016       3,399       2,8336     R$ / litro   RAIZEN  "
      ]
     },
     "execution_count": 6,
     "metadata": {},
     "output_type": "execute_result"
    }
   ],
   "source": [
    "df.columns=['Regiao', 'Estado', 'Municipio', 'Revenda', 'CNPJ_Revenda','Produto', \n",
    "         'Data_Coleta', 'Valor_Venda', 'Valor_Compra', 'Unidade_Medida','Bandeira']\n",
    "df.head()"
   ]
  },
  {
   "cell_type": "markdown",
   "metadata": {},
   "source": [
    "**5.Filtra dados que não sejam de MG**"
   ]
  },
  {
   "cell_type": "code",
   "execution_count": 7,
   "metadata": {},
   "outputs": [
    {
     "name": "stdout",
     "output_type": "stream",
     "text": [
      "Quantidade de linhas antes de filtrar  4451631\n",
      "Quantidade de linhas depois de filtrar 465446\n"
     ]
    }
   ],
   "source": [
    "filtro_estado_mg = df['Estado'] == 'MG'\n",
    "print('Quantidade de linhas antes de filtrar ', len(df.index))\n",
    "df = df[filtro_estado_mg]\n",
    "print('Quantidade de linhas depois de filtrar', len(df.index))"
   ]
  },
  {
   "cell_type": "markdown",
   "metadata": {},
   "source": [
    "**6.Remove colunas que não serão utilizadas na análise**"
   ]
  },
  {
   "cell_type": "code",
   "execution_count": 8,
   "metadata": {
    "scrolled": true
   },
   "outputs": [
    {
     "data": {
      "text/html": [
       "<div>\n",
       "<style scoped>\n",
       "    .dataframe tbody tr th:only-of-type {\n",
       "        vertical-align: middle;\n",
       "    }\n",
       "\n",
       "    .dataframe tbody tr th {\n",
       "        vertical-align: top;\n",
       "    }\n",
       "\n",
       "    .dataframe thead th {\n",
       "        text-align: right;\n",
       "    }\n",
       "</style>\n",
       "<table border=\"1\" class=\"dataframe\">\n",
       "  <thead>\n",
       "    <tr style=\"text-align: right;\">\n",
       "      <th></th>\n",
       "      <th>Municipio</th>\n",
       "      <th>Produto</th>\n",
       "      <th>Data_Coleta</th>\n",
       "      <th>Valor_Venda</th>\n",
       "      <th>Valor_Compra</th>\n",
       "      <th>Unidade_Medida</th>\n",
       "    </tr>\n",
       "  </thead>\n",
       "  <tbody>\n",
       "    <tr>\n",
       "      <th>258491</th>\n",
       "      <td>ALFENAS</td>\n",
       "      <td>DIESEL S10</td>\n",
       "      <td>01/02/2016</td>\n",
       "      <td>3,237</td>\n",
       "      <td>NaN</td>\n",
       "      <td>R$ / litro</td>\n",
       "    </tr>\n",
       "    <tr>\n",
       "      <th>258492</th>\n",
       "      <td>ALFENAS</td>\n",
       "      <td>DIESEL S10</td>\n",
       "      <td>02/05/2016</td>\n",
       "      <td>3,237</td>\n",
       "      <td>NaN</td>\n",
       "      <td>R$ / litro</td>\n",
       "    </tr>\n",
       "    <tr>\n",
       "      <th>258493</th>\n",
       "      <td>ALFENAS</td>\n",
       "      <td>DIESEL S10</td>\n",
       "      <td>04/01/2016</td>\n",
       "      <td>3,197</td>\n",
       "      <td>NaN</td>\n",
       "      <td>R$ / litro</td>\n",
       "    </tr>\n",
       "    <tr>\n",
       "      <th>258494</th>\n",
       "      <td>ALFENAS</td>\n",
       "      <td>DIESEL S10</td>\n",
       "      <td>04/04/2016</td>\n",
       "      <td>3,237</td>\n",
       "      <td>NaN</td>\n",
       "      <td>R$ / litro</td>\n",
       "    </tr>\n",
       "    <tr>\n",
       "      <th>258495</th>\n",
       "      <td>ALFENAS</td>\n",
       "      <td>DIESEL S10</td>\n",
       "      <td>06/06/2016</td>\n",
       "      <td>3,209</td>\n",
       "      <td>NaN</td>\n",
       "      <td>R$ / litro</td>\n",
       "    </tr>\n",
       "  </tbody>\n",
       "</table>\n",
       "</div>"
      ],
      "text/plain": [
       "       Municipio     Produto Data_Coleta Valor_Venda Valor_Compra  \\\n",
       "258491   ALFENAS  DIESEL S10  01/02/2016       3,237          NaN   \n",
       "258492   ALFENAS  DIESEL S10  02/05/2016       3,237          NaN   \n",
       "258493   ALFENAS  DIESEL S10  04/01/2016       3,197          NaN   \n",
       "258494   ALFENAS  DIESEL S10  04/04/2016       3,237          NaN   \n",
       "258495   ALFENAS  DIESEL S10  06/06/2016       3,209          NaN   \n",
       "\n",
       "       Unidade_Medida  \n",
       "258491     R$ / litro  \n",
       "258492     R$ / litro  \n",
       "258493     R$ / litro  \n",
       "258494     R$ / litro  \n",
       "258495     R$ / litro  "
      ]
     },
     "execution_count": 8,
     "metadata": {},
     "output_type": "execute_result"
    }
   ],
   "source": [
    "df.drop(['Regiao', 'Estado', 'Revenda', 'CNPJ_Revenda', 'Bandeira'], axis=1, inplace=True)\n",
    "df.head()\n"
   ]
  },
  {
   "cell_type": "markdown",
   "metadata": {},
   "source": [
    "**7.Verificar estrutura do dataframe para ver se podemos remover mais algum campo**"
   ]
  },
  {
   "cell_type": "code",
   "execution_count": 9,
   "metadata": {
    "scrolled": false
   },
   "outputs": [
    {
     "data": {
      "text/html": [
       "<div>\n",
       "<style scoped>\n",
       "    .dataframe tbody tr th:only-of-type {\n",
       "        vertical-align: middle;\n",
       "    }\n",
       "\n",
       "    .dataframe tbody tr th {\n",
       "        vertical-align: top;\n",
       "    }\n",
       "\n",
       "    .dataframe thead th {\n",
       "        text-align: right;\n",
       "    }\n",
       "</style>\n",
       "<table border=\"1\" class=\"dataframe\">\n",
       "  <thead>\n",
       "    <tr style=\"text-align: right;\">\n",
       "      <th></th>\n",
       "      <th>Municipio</th>\n",
       "      <th>Produto</th>\n",
       "      <th>Data_Coleta</th>\n",
       "      <th>Valor_Venda</th>\n",
       "      <th>Valor_Compra</th>\n",
       "      <th>Unidade_Medida</th>\n",
       "    </tr>\n",
       "  </thead>\n",
       "  <tbody>\n",
       "    <tr>\n",
       "      <th>count</th>\n",
       "      <td>465446</td>\n",
       "      <td>465446</td>\n",
       "      <td>465446</td>\n",
       "      <td>465446</td>\n",
       "      <td>163895</td>\n",
       "      <td>465446</td>\n",
       "    </tr>\n",
       "    <tr>\n",
       "      <th>unique</th>\n",
       "      <td>64</td>\n",
       "      <td>5</td>\n",
       "      <td>1003</td>\n",
       "      <td>3831</td>\n",
       "      <td>27013</td>\n",
       "      <td>1</td>\n",
       "    </tr>\n",
       "    <tr>\n",
       "      <th>top</th>\n",
       "      <td>UBERLANDIA</td>\n",
       "      <td>ETANOL</td>\n",
       "      <td>17/08/2020</td>\n",
       "      <td>2,999</td>\n",
       "      <td>3,27</td>\n",
       "      <td>R$ / litro</td>\n",
       "    </tr>\n",
       "    <tr>\n",
       "      <th>freq</th>\n",
       "      <td>27349</td>\n",
       "      <td>137751</td>\n",
       "      <td>1668</td>\n",
       "      <td>12874</td>\n",
       "      <td>247</td>\n",
       "      <td>465446</td>\n",
       "    </tr>\n",
       "  </tbody>\n",
       "</table>\n",
       "</div>"
      ],
      "text/plain": [
       "         Municipio Produto Data_Coleta Valor_Venda Valor_Compra Unidade_Medida\n",
       "count       465446  465446      465446      465446       163895         465446\n",
       "unique          64       5        1003        3831        27013              1\n",
       "top     UBERLANDIA  ETANOL  17/08/2020       2,999         3,27     R$ / litro\n",
       "freq         27349  137751        1668       12874          247         465446"
      ]
     },
     "execution_count": 9,
     "metadata": {},
     "output_type": "execute_result"
    }
   ],
   "source": [
    "df.describe()"
   ]
  },
  {
   "cell_type": "markdown",
   "metadata": {},
   "source": [
    "**8.Remover coluna de Unidade de medida (possui apenas 1 valor) e renomear coluna de Valor_Venda**"
   ]
  },
  {
   "cell_type": "code",
   "execution_count": 10,
   "metadata": {},
   "outputs": [
    {
     "data": {
      "text/html": [
       "<div>\n",
       "<style scoped>\n",
       "    .dataframe tbody tr th:only-of-type {\n",
       "        vertical-align: middle;\n",
       "    }\n",
       "\n",
       "    .dataframe tbody tr th {\n",
       "        vertical-align: top;\n",
       "    }\n",
       "\n",
       "    .dataframe thead th {\n",
       "        text-align: right;\n",
       "    }\n",
       "</style>\n",
       "<table border=\"1\" class=\"dataframe\">\n",
       "  <thead>\n",
       "    <tr style=\"text-align: right;\">\n",
       "      <th></th>\n",
       "      <th>Municipio</th>\n",
       "      <th>Produto</th>\n",
       "      <th>Data_Coleta</th>\n",
       "      <th>Valor_Venda_Litro_Em_Reais</th>\n",
       "      <th>Valor_Compra_Litro_Em_Reais</th>\n",
       "    </tr>\n",
       "  </thead>\n",
       "  <tbody>\n",
       "    <tr>\n",
       "      <th>count</th>\n",
       "      <td>465446</td>\n",
       "      <td>465446</td>\n",
       "      <td>465446</td>\n",
       "      <td>465446</td>\n",
       "      <td>163895</td>\n",
       "    </tr>\n",
       "    <tr>\n",
       "      <th>unique</th>\n",
       "      <td>64</td>\n",
       "      <td>5</td>\n",
       "      <td>1003</td>\n",
       "      <td>3831</td>\n",
       "      <td>27013</td>\n",
       "    </tr>\n",
       "    <tr>\n",
       "      <th>top</th>\n",
       "      <td>UBERLANDIA</td>\n",
       "      <td>ETANOL</td>\n",
       "      <td>17/08/2020</td>\n",
       "      <td>2,999</td>\n",
       "      <td>3,27</td>\n",
       "    </tr>\n",
       "    <tr>\n",
       "      <th>freq</th>\n",
       "      <td>27349</td>\n",
       "      <td>137751</td>\n",
       "      <td>1668</td>\n",
       "      <td>12874</td>\n",
       "      <td>247</td>\n",
       "    </tr>\n",
       "  </tbody>\n",
       "</table>\n",
       "</div>"
      ],
      "text/plain": [
       "         Municipio Produto Data_Coleta Valor_Venda_Litro_Em_Reais  \\\n",
       "count       465446  465446      465446                     465446   \n",
       "unique          64       5        1003                       3831   \n",
       "top     UBERLANDIA  ETANOL  17/08/2020                      2,999   \n",
       "freq         27349  137751        1668                      12874   \n",
       "\n",
       "       Valor_Compra_Litro_Em_Reais  \n",
       "count                       163895  \n",
       "unique                       27013  \n",
       "top                           3,27  \n",
       "freq                           247  "
      ]
     },
     "execution_count": 10,
     "metadata": {},
     "output_type": "execute_result"
    }
   ],
   "source": [
    "df.drop(['Unidade_Medida'], axis=1, inplace=True)\n",
    "df = df.rename({'Valor_Venda': 'Valor_Venda_Litro_Em_Reais'}, axis=1)\n",
    "df = df.rename({'Valor_Compra': 'Valor_Compra_Litro_Em_Reais'}, axis=1)\n",
    "df.describe()"
   ]
  },
  {
   "cell_type": "markdown",
   "metadata": {},
   "source": [
    "**9.Verificar categoria de produtos**"
   ]
  },
  {
   "cell_type": "code",
   "execution_count": 11,
   "metadata": {},
   "outputs": [
    {
     "name": "stdout",
     "output_type": "stream",
     "text": [
      "['DIESEL S10' 'ETANOL' 'GASOLINA' 'DIESEL' 'GNV']\n"
     ]
    }
   ],
   "source": [
    "print(df[\"Produto\"].unique())"
   ]
  },
  {
   "cell_type": "markdown",
   "metadata": {},
   "source": [
    "**10.Procura por registros com valores faltantes**"
   ]
  },
  {
   "cell_type": "code",
   "execution_count": 12,
   "metadata": {},
   "outputs": [
    {
     "data": {
      "text/plain": [
       "Municipio                           0\n",
       "Produto                             0\n",
       "Data_Coleta                         0\n",
       "Valor_Venda_Litro_Em_Reais          0\n",
       "Valor_Compra_Litro_Em_Reais    301551\n",
       "dtype: int64"
      ]
     },
     "execution_count": 12,
     "metadata": {},
     "output_type": "execute_result"
    }
   ],
   "source": [
    "df.isnull().sum()"
   ]
  },
  {
   "cell_type": "markdown",
   "metadata": {},
   "source": [
    "**11.Checar tipos das colunas**"
   ]
  },
  {
   "cell_type": "code",
   "execution_count": 13,
   "metadata": {
    "scrolled": false
   },
   "outputs": [
    {
     "name": "stdout",
     "output_type": "stream",
     "text": [
      "<class 'pandas.core.frame.DataFrame'>\n",
      "Int64Index: 465446 entries, 258491 to 4448812\n",
      "Data columns (total 5 columns):\n",
      " #   Column                       Non-Null Count   Dtype \n",
      "---  ------                       --------------   ----- \n",
      " 0   Municipio                    465446 non-null  object\n",
      " 1   Produto                      465446 non-null  object\n",
      " 2   Data_Coleta                  465446 non-null  object\n",
      " 3   Valor_Venda_Litro_Em_Reais   465446 non-null  object\n",
      " 4   Valor_Compra_Litro_Em_Reais  163895 non-null  object\n",
      "dtypes: object(5)\n",
      "memory usage: 21.3+ MB\n"
     ]
    }
   ],
   "source": [
    "df.info()"
   ]
  },
  {
   "cell_type": "markdown",
   "metadata": {},
   "source": [
    "**12.Alterar tipos das colunas para o tipo do dado correspondente**"
   ]
  },
  {
   "cell_type": "code",
   "execution_count": 14,
   "metadata": {},
   "outputs": [
    {
     "name": "stdout",
     "output_type": "stream",
     "text": [
      "Empty DataFrame\n",
      "Columns: [Municipio, Produto, Data_Coleta, Valor_Venda_Litro_Em_Reais, Valor_Compra_Litro_Em_Reais]\n",
      "Index: []\n"
     ]
    }
   ],
   "source": [
    "print(df[df['Valor_Compra_Litro_Em_Reais'] == -1])"
   ]
  },
  {
   "cell_type": "code",
   "execution_count": 15,
   "metadata": {
    "scrolled": true
   },
   "outputs": [
    {
     "name": "stdout",
     "output_type": "stream",
     "text": [
      "          Municipio     Produto Data_Coleta  Valor_Venda_Litro_Em_Reais  \\\n",
      "258491      ALFENAS  DIESEL S10  2016-02-01                       3.237   \n",
      "258492      ALFENAS  DIESEL S10  2016-05-02                       3.237   \n",
      "258493      ALFENAS  DIESEL S10  2016-01-04                       3.197   \n",
      "258494      ALFENAS  DIESEL S10  2016-04-04                       3.237   \n",
      "258495      ALFENAS  DIESEL S10  2016-06-06                       3.209   \n",
      "...             ...         ...         ...                         ...   \n",
      "4448808         UBA    GASOLINA  2021-01-24                       4.750   \n",
      "4448809         UBA    GASOLINA  2021-01-24                       4.997   \n",
      "4448810         UBA    GASOLINA  2021-01-24                       4.997   \n",
      "4448811  UBERLANDIA    GASOLINA  2021-01-18                       4.699   \n",
      "4448812  UBERLANDIA    GASOLINA  2021-01-18                       4.539   \n",
      "\n",
      "         Valor_Compra_Litro_Em_Reais  \n",
      "258491                          -1.0  \n",
      "258492                          -1.0  \n",
      "258493                          -1.0  \n",
      "258494                          -1.0  \n",
      "258495                          -1.0  \n",
      "...                              ...  \n",
      "4448808                         -1.0  \n",
      "4448809                         -1.0  \n",
      "4448810                         -1.0  \n",
      "4448811                         -1.0  \n",
      "4448812                         -1.0  \n",
      "\n",
      "[301551 rows x 5 columns]\n",
      "<class 'pandas.core.frame.DataFrame'>\n",
      "Int64Index: 465446 entries, 258491 to 4448812\n",
      "Data columns (total 5 columns):\n",
      " #   Column                       Non-Null Count   Dtype         \n",
      "---  ------                       --------------   -----         \n",
      " 0   Municipio                    465446 non-null  string        \n",
      " 1   Produto                      465446 non-null  string        \n",
      " 2   Data_Coleta                  465446 non-null  datetime64[ns]\n",
      " 3   Valor_Venda_Litro_Em_Reais   465446 non-null  float64       \n",
      " 4   Valor_Compra_Litro_Em_Reais  465446 non-null  float64       \n",
      "dtypes: datetime64[ns](1), float64(2), string(2)\n",
      "memory usage: 21.3 MB\n"
     ]
    }
   ],
   "source": [
    "##Tipos String\n",
    "df['Municipio'] = df['Municipio'].astype('string')\n",
    "df['Produto'] = df['Produto'].astype('string')\n",
    "\n",
    "##Campo de Data\n",
    "df['Data_Coleta'] = pd.to_datetime(df['Data_Coleta'], format='%d/%m/%Y')\n",
    "\n",
    "\n",
    "##Campos de valor\n",
    "#Transformar valores N/A para -1 para facilitar a conversao para numerico\n",
    "df = df.fillna(-1)\n",
    "\n",
    "# Substituir ',' por '.'\n",
    "df['Valor_Venda_Litro_Em_Reais'] = df['Valor_Venda_Litro_Em_Reais'].astype(str).str.replace(',', '.')\n",
    "df['Valor_Venda_Litro_Em_Reais'] = pd.to_numeric(df['Valor_Venda_Litro_Em_Reais'])\n",
    "\n",
    "\n",
    "df['Valor_Compra_Litro_Em_Reais'] = df['Valor_Compra_Litro_Em_Reais'].astype(str).str.replace(',', '.')\n",
    "df['Valor_Compra_Litro_Em_Reais'] = pd.to_numeric(df['Valor_Compra_Litro_Em_Reais'])\n",
    "\n",
    "print(df[df['Valor_Compra_Litro_Em_Reais'] == -1])\n",
    "\n",
    "df.info()"
   ]
  },
  {
   "cell_type": "markdown",
   "metadata": {},
   "source": [
    "**13.Quebra a data de coleta em novas colunas de Dia, Mes e Ano de Coleta**"
   ]
  },
  {
   "cell_type": "code",
   "execution_count": 16,
   "metadata": {},
   "outputs": [
    {
     "name": "stdout",
     "output_type": "stream",
     "text": [
      "<class 'pandas.core.frame.DataFrame'>\n",
      "Int64Index: 465446 entries, 258491 to 4448812\n",
      "Data columns (total 9 columns):\n",
      " #   Column                       Non-Null Count   Dtype         \n",
      "---  ------                       --------------   -----         \n",
      " 0   Municipio                    465446 non-null  string        \n",
      " 1   Produto                      465446 non-null  string        \n",
      " 2   Data_Coleta                  465446 non-null  datetime64[ns]\n",
      " 3   Valor_Venda_Litro_Em_Reais   465446 non-null  float64       \n",
      " 4   Valor_Compra_Litro_Em_Reais  465446 non-null  float64       \n",
      " 5   Ano_Coleta                   465446 non-null  int64         \n",
      " 6   Mes_Coleta                   465446 non-null  int64         \n",
      " 7   Dia_Coleta                   465446 non-null  int64         \n",
      " 8   Mes_Ano_Coleta               465446 non-null  period[M]     \n",
      "dtypes: datetime64[ns](1), float64(2), int64(3), period[M](1), string(2)\n",
      "memory usage: 35.5 MB\n"
     ]
    }
   ],
   "source": [
    "df[\"Ano_Coleta\"] = df[\"Data_Coleta\"].dt.year\n",
    "df[\"Mes_Coleta\"] = df[\"Data_Coleta\"].dt.month\n",
    "df[\"Dia_Coleta\"] = df[\"Data_Coleta\"].dt.day\n",
    "df[\"Mes_Ano_Coleta\"] = df[\"Data_Coleta\"].dt.to_period('M')\n",
    "df.info()"
   ]
  },
  {
   "cell_type": "code",
   "execution_count": 17,
   "metadata": {},
   "outputs": [
    {
     "name": "stdout",
     "output_type": "stream",
     "text": [
      "[ 1  2  3  4  5  6  7  8  9 10 11 12 13 14 15 16 17 18 19 20 21 22 23 24\n",
      " 25 26 27 28 29 30 31]\n"
     ]
    }
   ],
   "source": [
    "print(np.sort(df[\"Dia_Coleta\"].unique())) "
   ]
  },
  {
   "cell_type": "markdown",
   "metadata": {},
   "source": [
    "**14.Salva dataframe de historico de preços tratado em arquivo compactado**"
   ]
  },
  {
   "cell_type": "code",
   "execution_count": 18,
   "metadata": {},
   "outputs": [],
   "source": [
    "caminho_df_v1 = './v1'\n",
    "opcoes_zip = dict(method='zip', archive_name='historico_precos.csv')\n",
    "df.to_csv(os.path.join(caminho_df_v1, 'historico_precos.zip'), index=False, compression=opcoes_zip)\n"
   ]
  },
  {
   "cell_type": "markdown",
   "metadata": {},
   "source": [
    "**15.Carrega arquivo de Regiões do Estado**"
   ]
  },
  {
   "cell_type": "code",
   "execution_count": 19,
   "metadata": {},
   "outputs": [],
   "source": [
    "#carregar pacote que le tabelas em pdf\n",
    "import tabula "
   ]
  },
  {
   "cell_type": "code",
   "execution_count": 20,
   "metadata": {},
   "outputs": [],
   "source": [
    "#converter tabela pdf em csv\n",
    "caminho_arquivo_regioes = './v0/RegioesPlanejamento'\n",
    "caminho_pdf = os.path.join(caminho_arquivo_regioes, 'ligminas_10_2_02_regplan_listamunicipios.pdf')\n",
    "caminho_csv = os.path.join(caminho_arquivo_regioes, 'regioes.csv')\n",
    "tabula.convert_into(caminho_pdf, caminho_csv, pages='all', output_format='csv')\n"
   ]
  },
  {
   "cell_type": "markdown",
   "metadata": {},
   "source": [
    "**16.Verifica estrutura do arquivos de regiões**"
   ]
  },
  {
   "cell_type": "code",
   "execution_count": 21,
   "metadata": {
    "scrolled": true
   },
   "outputs": [
    {
     "name": "stdout",
     "output_type": "stream",
     "text": [
      "  Código da\\rRegião de Planejamento Nome da\\rRegião de Planejamento  \\\n",
      "0                                 I                         Central   \n",
      "1                                 I                         Central   \n",
      "2                                 I                         Central   \n",
      "3                                 I                         Central   \n",
      "4                                 I                         Central   \n",
      "5                                 I                         Central   \n",
      "6                                 I                         Central   \n",
      "7                                 I                         Central   \n",
      "8                                 I                         Central   \n",
      "9                                 I                         Central   \n",
      "\n",
      "             Município  \n",
      "0               Abaeté  \n",
      "1  Alfredo Vasconcelos  \n",
      "2          Alvinópolis  \n",
      "3    Alvorada de Minas  \n",
      "4       Antônio Carlos  \n",
      "5               Araçaí  \n",
      "6      Augusto de Lima  \n",
      "7               Baldim  \n",
      "8      Barão de Cocais  \n",
      "9            Barbacena  \n"
     ]
    }
   ],
   "source": [
    "example_file = pd.read_csv(caminho_csv, encoding=\"latin-1\", nrows=10)\n",
    "\n",
    "print(example_file)"
   ]
  },
  {
   "cell_type": "markdown",
   "metadata": {},
   "source": [
    "**17.Cria DataFrame Pandas para armazenar os dados do dataset de regiões**"
   ]
  },
  {
   "cell_type": "code",
   "execution_count": 22,
   "metadata": {
    "scrolled": true
   },
   "outputs": [
    {
     "data": {
      "text/html": [
       "<div>\n",
       "<style scoped>\n",
       "    .dataframe tbody tr th:only-of-type {\n",
       "        vertical-align: middle;\n",
       "    }\n",
       "\n",
       "    .dataframe tbody tr th {\n",
       "        vertical-align: top;\n",
       "    }\n",
       "\n",
       "    .dataframe thead th {\n",
       "        text-align: right;\n",
       "    }\n",
       "</style>\n",
       "<table border=\"1\" class=\"dataframe\">\n",
       "  <thead>\n",
       "    <tr style=\"text-align: right;\">\n",
       "      <th></th>\n",
       "      <th>Código da\\rRegião de Planejamento</th>\n",
       "      <th>Nome da\\rRegião de Planejamento</th>\n",
       "      <th>Município</th>\n",
       "    </tr>\n",
       "  </thead>\n",
       "  <tbody>\n",
       "    <tr>\n",
       "      <th>count</th>\n",
       "      <td>871</td>\n",
       "      <td>871</td>\n",
       "      <td>870</td>\n",
       "    </tr>\n",
       "    <tr>\n",
       "      <th>unique</th>\n",
       "      <td>13</td>\n",
       "      <td>13</td>\n",
       "      <td>854</td>\n",
       "    </tr>\n",
       "    <tr>\n",
       "      <th>top</th>\n",
       "      <td>I</td>\n",
       "      <td>Central</td>\n",
       "      <td>Município</td>\n",
       "    </tr>\n",
       "    <tr>\n",
       "      <th>freq</th>\n",
       "      <td>157</td>\n",
       "      <td>157</td>\n",
       "      <td>17</td>\n",
       "    </tr>\n",
       "  </tbody>\n",
       "</table>\n",
       "</div>"
      ],
      "text/plain": [
       "       Código da\\rRegião de Planejamento Nome da\\rRegião de Planejamento  \\\n",
       "count                                871                             871   \n",
       "unique                                13                              13   \n",
       "top                                    I                         Central   \n",
       "freq                                 157                             157   \n",
       "\n",
       "        Município  \n",
       "count         870  \n",
       "unique        854  \n",
       "top     Município  \n",
       "freq           17  "
      ]
     },
     "execution_count": 22,
     "metadata": {},
     "output_type": "execute_result"
    }
   ],
   "source": [
    "df_regioes = pd.read_csv(caminho_csv, encoding=\"latin-1\")\n",
    "df_regioes.describe()"
   ]
  },
  {
   "cell_type": "markdown",
   "metadata": {},
   "source": [
    "**18.Renomeia colunas dataframe de regiões**"
   ]
  },
  {
   "cell_type": "code",
   "execution_count": 23,
   "metadata": {},
   "outputs": [
    {
     "data": {
      "text/html": [
       "<div>\n",
       "<style scoped>\n",
       "    .dataframe tbody tr th:only-of-type {\n",
       "        vertical-align: middle;\n",
       "    }\n",
       "\n",
       "    .dataframe tbody tr th {\n",
       "        vertical-align: top;\n",
       "    }\n",
       "\n",
       "    .dataframe thead th {\n",
       "        text-align: right;\n",
       "    }\n",
       "</style>\n",
       "<table border=\"1\" class=\"dataframe\">\n",
       "  <thead>\n",
       "    <tr style=\"text-align: right;\">\n",
       "      <th></th>\n",
       "      <th>Codigo_Regiao</th>\n",
       "      <th>Nome_Regiao</th>\n",
       "      <th>Municipio</th>\n",
       "    </tr>\n",
       "  </thead>\n",
       "  <tbody>\n",
       "    <tr>\n",
       "      <th>0</th>\n",
       "      <td>I</td>\n",
       "      <td>Central</td>\n",
       "      <td>Abaeté</td>\n",
       "    </tr>\n",
       "    <tr>\n",
       "      <th>1</th>\n",
       "      <td>I</td>\n",
       "      <td>Central</td>\n",
       "      <td>Alfredo Vasconcelos</td>\n",
       "    </tr>\n",
       "    <tr>\n",
       "      <th>2</th>\n",
       "      <td>I</td>\n",
       "      <td>Central</td>\n",
       "      <td>Alvinópolis</td>\n",
       "    </tr>\n",
       "    <tr>\n",
       "      <th>3</th>\n",
       "      <td>I</td>\n",
       "      <td>Central</td>\n",
       "      <td>Alvorada de Minas</td>\n",
       "    </tr>\n",
       "    <tr>\n",
       "      <th>4</th>\n",
       "      <td>I</td>\n",
       "      <td>Central</td>\n",
       "      <td>Antônio Carlos</td>\n",
       "    </tr>\n",
       "  </tbody>\n",
       "</table>\n",
       "</div>"
      ],
      "text/plain": [
       "  Codigo_Regiao Nome_Regiao            Municipio\n",
       "0             I     Central               Abaeté\n",
       "1             I     Central  Alfredo Vasconcelos\n",
       "2             I     Central          Alvinópolis\n",
       "3             I     Central    Alvorada de Minas\n",
       "4             I     Central       Antônio Carlos"
      ]
     },
     "execution_count": 23,
     "metadata": {},
     "output_type": "execute_result"
    }
   ],
   "source": [
    "df_regioes.columns=['Codigo_Regiao', 'Nome_Regiao', 'Municipio']\n",
    "df_regioes.head()"
   ]
  },
  {
   "cell_type": "markdown",
   "metadata": {},
   "source": [
    "**19.Remove coluna de codigo_regiao**"
   ]
  },
  {
   "cell_type": "code",
   "execution_count": 24,
   "metadata": {},
   "outputs": [
    {
     "data": {
      "text/html": [
       "<div>\n",
       "<style scoped>\n",
       "    .dataframe tbody tr th:only-of-type {\n",
       "        vertical-align: middle;\n",
       "    }\n",
       "\n",
       "    .dataframe tbody tr th {\n",
       "        vertical-align: top;\n",
       "    }\n",
       "\n",
       "    .dataframe thead th {\n",
       "        text-align: right;\n",
       "    }\n",
       "</style>\n",
       "<table border=\"1\" class=\"dataframe\">\n",
       "  <thead>\n",
       "    <tr style=\"text-align: right;\">\n",
       "      <th></th>\n",
       "      <th>Nome_Regiao</th>\n",
       "      <th>Municipio</th>\n",
       "    </tr>\n",
       "  </thead>\n",
       "  <tbody>\n",
       "    <tr>\n",
       "      <th>0</th>\n",
       "      <td>Central</td>\n",
       "      <td>Abaeté</td>\n",
       "    </tr>\n",
       "    <tr>\n",
       "      <th>1</th>\n",
       "      <td>Central</td>\n",
       "      <td>Alfredo Vasconcelos</td>\n",
       "    </tr>\n",
       "    <tr>\n",
       "      <th>2</th>\n",
       "      <td>Central</td>\n",
       "      <td>Alvinópolis</td>\n",
       "    </tr>\n",
       "    <tr>\n",
       "      <th>3</th>\n",
       "      <td>Central</td>\n",
       "      <td>Alvorada de Minas</td>\n",
       "    </tr>\n",
       "    <tr>\n",
       "      <th>4</th>\n",
       "      <td>Central</td>\n",
       "      <td>Antônio Carlos</td>\n",
       "    </tr>\n",
       "  </tbody>\n",
       "</table>\n",
       "</div>"
      ],
      "text/plain": [
       "  Nome_Regiao            Municipio\n",
       "0     Central               Abaeté\n",
       "1     Central  Alfredo Vasconcelos\n",
       "2     Central          Alvinópolis\n",
       "3     Central    Alvorada de Minas\n",
       "4     Central       Antônio Carlos"
      ]
     },
     "execution_count": 24,
     "metadata": {},
     "output_type": "execute_result"
    }
   ],
   "source": [
    "df_regioes.drop(['Codigo_Regiao'], axis=1, inplace=True)\n",
    "df_regioes.head()"
   ]
  },
  {
   "cell_type": "markdown",
   "metadata": {},
   "source": [
    "**20.Verifica tipos dados dataframe**"
   ]
  },
  {
   "cell_type": "code",
   "execution_count": 25,
   "metadata": {
    "scrolled": true
   },
   "outputs": [
    {
     "name": "stdout",
     "output_type": "stream",
     "text": [
      "<class 'pandas.core.frame.DataFrame'>\n",
      "RangeIndex: 872 entries, 0 to 871\n",
      "Data columns (total 2 columns):\n",
      " #   Column       Non-Null Count  Dtype \n",
      "---  ------       --------------  ----- \n",
      " 0   Nome_Regiao  871 non-null    object\n",
      " 1   Municipio    870 non-null    object\n",
      "dtypes: object(2)\n",
      "memory usage: 13.8+ KB\n"
     ]
    }
   ],
   "source": [
    "df_regioes.info()"
   ]
  },
  {
   "cell_type": "markdown",
   "metadata": {},
   "source": [
    "**21.Altera o tipo das colunas**"
   ]
  },
  {
   "cell_type": "code",
   "execution_count": 26,
   "metadata": {},
   "outputs": [],
   "source": [
    "##Tipos String\n",
    "df_regioes['Nome_Regiao'] = df_regioes['Nome_Regiao'].astype('string')\n",
    "df_regioes['Municipio'] = df_regioes['Municipio'].astype('string')"
   ]
  },
  {
   "cell_type": "markdown",
   "metadata": {},
   "source": [
    "**22.Verifica consistência dos dados (o dataframe apresenta quantidade de dados não nulos diferentes para cada coluna)**"
   ]
  },
  {
   "cell_type": "code",
   "execution_count": 27,
   "metadata": {
    "scrolled": true
   },
   "outputs": [
    {
     "name": "stdout",
     "output_type": "stream",
     "text": [
      "15\n",
      "                        Nome_Regiao  Municipio\n",
      "101  Nome da\r",
      "Região de Planejamento  Município\n",
      "152  Nome da\r",
      "Região de Planejamento  Município\n",
      "203  Nome da\r",
      "Região de Planejamento  Município\n",
      "254  Nome da\r",
      "Região de Planejamento  Município\n",
      "305  Nome da\r",
      "Região de Planejamento  Município\n",
      "356  Nome da\r",
      "Região de Planejamento  Município\n",
      "407  Nome da\r",
      "Região de Planejamento  Município\n",
      "458  Nome da\r",
      "Região de Planejamento  Município\n",
      "509  Nome da\r",
      "Região de Planejamento  Município\n",
      "560  Nome da\r",
      "Região de Planejamento  Município\n",
      "611  Nome da\r",
      "Região de Planejamento  Município\n",
      "662  Nome da\r",
      "Região de Planejamento  Município\n",
      "713  Nome da\r",
      "Região de Planejamento  Município\n",
      "764  Nome da\r",
      "Região de Planejamento  Município\n",
      "815  Nome da\r",
      "Região de Planejamento  Município\n"
     ]
    }
   ],
   "source": [
    "#Dados repetidos\n",
    "print(len(df_regioes[df_regioes.duplicated()]))\n",
    "print(df_regioes[df_regioes.duplicated()])\n"
   ]
  },
  {
   "cell_type": "code",
   "execution_count": 28,
   "metadata": {},
   "outputs": [
    {
     "name": "stdout",
     "output_type": "stream",
     "text": [
      "0\n"
     ]
    },
    {
     "name": "stderr",
     "output_type": "stream",
     "text": [
      "<ipython-input-28-5d0de6f1e873>:5: UserWarning: Boolean Series key will be reindexed to match DataFrame index.\n",
      "  df_regioes = df_regioes[filtro_cabecalho_regiao]\n"
     ]
    }
   ],
   "source": [
    "#Remover linhas com dados de cabecalho\n",
    "filtro_cabecalho_municipio = df_regioes['Municipio'] != 'Município'\n",
    "filtro_cabecalho_regiao = df_regioes['Nome_Regiao'] != 'Nome da Região de Planejamento'\n",
    "df_regioes = df_regioes[filtro_cabecalho_municipio]\n",
    "df_regioes = df_regioes[filtro_cabecalho_regiao]\n",
    "print(len(df_regioes[df_regioes.duplicated()]))\n"
   ]
  },
  {
   "cell_type": "code",
   "execution_count": 29,
   "metadata": {
    "scrolled": true
   },
   "outputs": [
    {
     "name": "stdout",
     "output_type": "stream",
     "text": [
      "Regioes <StringArray>\n",
      "[             'Central',                 'Mata',         'Sul de Minas',\n",
      "            'Triângulo',       'Alto Paranaíba',         'Centro-Oeste',\n",
      "             'Noroeste',                'Norte', 'Jequitinhonha-Mucuri',\n",
      "             'Rio Doce']\n",
      "Length: 10, dtype: string\n",
      "Quantidade de municipios com nome errado 0\n"
     ]
    }
   ],
   "source": [
    "#Verificar se ainda existe dados de cabecalhos\n",
    "print('Regioes', df_regioes[\"Nome_Regiao\"].unique())\n",
    "\n",
    "print('Quantidade de municipios com nome errado', len(df_regioes[df_regioes[\"Municipio\"] == 'Município']))\n"
   ]
  },
  {
   "cell_type": "markdown",
   "metadata": {},
   "source": [
    "**23.Descreve a estrutura do dataframe de regiões**"
   ]
  },
  {
   "cell_type": "code",
   "execution_count": 30,
   "metadata": {
    "scrolled": true
   },
   "outputs": [
    {
     "name": "stdout",
     "output_type": "stream",
     "text": [
      "<class 'pandas.core.frame.DataFrame'>\n",
      "Int64Index: 853 entries, 0 to 871\n",
      "Data columns (total 2 columns):\n",
      " #   Column       Non-Null Count  Dtype \n",
      "---  ------       --------------  ----- \n",
      " 0   Nome_Regiao  853 non-null    string\n",
      " 1   Municipio    853 non-null    string\n",
      "dtypes: string(2)\n",
      "memory usage: 20.0 KB\n"
     ]
    }
   ],
   "source": [
    "df_regioes.info()"
   ]
  },
  {
   "cell_type": "markdown",
   "metadata": {},
   "source": [
    "**24.Salva dataframe de regioes tratado em arquivo compactado**"
   ]
  },
  {
   "cell_type": "code",
   "execution_count": 31,
   "metadata": {},
   "outputs": [],
   "source": [
    "caminho_df_v1 = './v1'\n",
    "opcoes_zip = dict(method='zip', archive_name='regioes.csv')\n",
    "df_regioes.to_csv(os.path.join(caminho_df_v1, 'regioes.zip'), index=False, compression=opcoes_zip)"
   ]
  },
  {
   "cell_type": "markdown",
   "metadata": {},
   "source": [
    "**25.Verifica campos dos dois dataframes para fazer união das informações**"
   ]
  },
  {
   "cell_type": "code",
   "execution_count": 32,
   "metadata": {},
   "outputs": [
    {
     "name": "stdout",
     "output_type": "stream",
     "text": [
      "258491    ALFENAS\n",
      "258492    ALFENAS\n",
      "258493    ALFENAS\n",
      "258494    ALFENAS\n",
      "258495    ALFENAS\n",
      "Name: Municipio, dtype: string\n",
      "0                 Abaeté\n",
      "1    Alfredo Vasconcelos\n",
      "2            Alvinópolis\n",
      "3      Alvorada de Minas\n",
      "4         Antônio Carlos\n",
      "Name: Municipio, dtype: string\n"
     ]
    }
   ],
   "source": [
    "print(df['Municipio'].head())\n",
    "\n",
    "print(df_regioes['Municipio'].head())"
   ]
  },
  {
   "cell_type": "markdown",
   "metadata": {},
   "source": [
    "**26.Alterar case da coluna de municipio do dataset de Regiões**"
   ]
  },
  {
   "cell_type": "code",
   "execution_count": 33,
   "metadata": {},
   "outputs": [
    {
     "name": "stdout",
     "output_type": "stream",
     "text": [
      "0                 ABAETÉ\n",
      "1    ALFREDO VASCONCELOS\n",
      "2            ALVINÓPOLIS\n",
      "3      ALVORADA DE MINAS\n",
      "4         ANTÔNIO CARLOS\n",
      "Name: Municipio, dtype: string\n"
     ]
    }
   ],
   "source": [
    "df_regioes['Municipio'] = df_regioes['Municipio'].str.upper()\n",
    "print(df_regioes['Municipio'].head())\n"
   ]
  },
  {
   "cell_type": "markdown",
   "metadata": {},
   "source": [
    "**27.Verificar se todos municipios do dataset de histórico possuem correspondência no de Regiões**"
   ]
  },
  {
   "cell_type": "code",
   "execution_count": 34,
   "metadata": {
    "scrolled": true
   },
   "outputs": [
    {
     "data": {
      "text/plain": [
       "<StringArray>\n",
       "[                   'ARAXA',              'DIVINOPOLIS',\n",
       "                  'GUAXUPE',                  'ITAJUBA',\n",
       "                   'ITAUNA',                  'JANAUBA',\n",
       "                 'JANUARIA',           'JOAO MONLEVADE',\n",
       "            'JOAO PINHEIRO',                 'MANHUACU',\n",
       "                   'MURIAE',            'PARA DE MINAS',\n",
       "               'PATROCINIO',          'POCOS DE CALDAS',\n",
       "       'RIBEIRAO DAS NEVES',                   'SABARA',\n",
       "         'SAO JOAO DEL REI',             'SAO LOURENCO',\n",
       " 'SAO SEBASTIAO DO PARAISO',            'TEOFILO OTONI',\n",
       "                  'TIMOTEO',            'TRES CORACOES',\n",
       "                      'UBA',               'UBERLANDIA',\n",
       "                     'UNAI',                   'VICOSA']\n",
       "Length: 26, dtype: string"
      ]
     },
     "execution_count": 34,
     "metadata": {},
     "output_type": "execute_result"
    }
   ],
   "source": [
    "#Municipios que não possuem correspondência\n",
    "df[~df['Municipio'].isin(df_regioes['Municipio'])][\"Municipio\"].unique()"
   ]
  },
  {
   "cell_type": "markdown",
   "metadata": {},
   "source": [
    "**28.Criar coluna sem caracteres especiais do dataset de regiões para corresponder aos da tabela de histórico**"
   ]
  },
  {
   "cell_type": "code",
   "execution_count": 35,
   "metadata": {},
   "outputs": [],
   "source": [
    "df_regioes['Municipio_Tratado'] = df_regioes['Municipio'].str.normalize('NFKD').str.encode('ascii', errors='ignore').str.decode('utf-8')"
   ]
  },
  {
   "cell_type": "markdown",
   "metadata": {},
   "source": [
    "**29.Verifica se algum registro do dataset de histórico ainda ficou sem correspondencia**"
   ]
  },
  {
   "cell_type": "code",
   "execution_count": 36,
   "metadata": {},
   "outputs": [
    {
     "data": {
      "text/plain": [
       "<StringArray>\n",
       "['SAO JOAO DEL REI']\n",
       "Length: 1, dtype: string"
      ]
     },
     "execution_count": 36,
     "metadata": {},
     "output_type": "execute_result"
    }
   ],
   "source": [
    "df[~df['Municipio'].isin(df_regioes['Municipio_Tratado'])][\"Municipio\"].unique()"
   ]
  },
  {
   "cell_type": "markdown",
   "metadata": {},
   "source": [
    "**30.Procura por registro semelhante no dataset de regiões**"
   ]
  },
  {
   "cell_type": "code",
   "execution_count": 37,
   "metadata": {
    "scrolled": true
   },
   "outputs": [
    {
     "data": {
      "text/html": [
       "<div>\n",
       "<style scoped>\n",
       "    .dataframe tbody tr th:only-of-type {\n",
       "        vertical-align: middle;\n",
       "    }\n",
       "\n",
       "    .dataframe tbody tr th {\n",
       "        vertical-align: top;\n",
       "    }\n",
       "\n",
       "    .dataframe thead th {\n",
       "        text-align: right;\n",
       "    }\n",
       "</style>\n",
       "<table border=\"1\" class=\"dataframe\">\n",
       "  <thead>\n",
       "    <tr style=\"text-align: right;\">\n",
       "      <th></th>\n",
       "      <th>Nome_Regiao</th>\n",
       "      <th>Municipio</th>\n",
       "      <th>Municipio_Tratado</th>\n",
       "    </tr>\n",
       "  </thead>\n",
       "  <tbody>\n",
       "    <tr>\n",
       "      <th>142</th>\n",
       "      <td>Central</td>\n",
       "      <td>SÃO JOÃO DEL-REI</td>\n",
       "      <td>SAO JOAO DEL-REI</td>\n",
       "    </tr>\n",
       "    <tr>\n",
       "      <th>280</th>\n",
       "      <td>Mata</td>\n",
       "      <td>SÃO JOÃO DO MANHUAÇU</td>\n",
       "      <td>SAO JOAO DO MANHUACU</td>\n",
       "    </tr>\n",
       "    <tr>\n",
       "      <th>281</th>\n",
       "      <td>Mata</td>\n",
       "      <td>SÃO JOÃO NEPOMUCENO</td>\n",
       "      <td>SAO JOAO NEPOMUCENO</td>\n",
       "    </tr>\n",
       "    <tr>\n",
       "      <th>435</th>\n",
       "      <td>Sul de Minas</td>\n",
       "      <td>SÃO JOÃO BATISTA DO GLÓRIA</td>\n",
       "      <td>SAO JOAO BATISTA DO GLORIA</td>\n",
       "    </tr>\n",
       "    <tr>\n",
       "      <th>436</th>\n",
       "      <td>Sul de Minas</td>\n",
       "      <td>SÃO JOÃO DA MATA</td>\n",
       "      <td>SAO JOAO DA MATA</td>\n",
       "    </tr>\n",
       "    <tr>\n",
       "      <th>684</th>\n",
       "      <td>Norte</td>\n",
       "      <td>SÃO JOÃO DA LAGOA</td>\n",
       "      <td>SAO JOAO DA LAGOA</td>\n",
       "    </tr>\n",
       "    <tr>\n",
       "      <th>685</th>\n",
       "      <td>Norte</td>\n",
       "      <td>SÃO JOÃO DA PONTE</td>\n",
       "      <td>SAO JOAO DA PONTE</td>\n",
       "    </tr>\n",
       "    <tr>\n",
       "      <th>686</th>\n",
       "      <td>Norte</td>\n",
       "      <td>SÃO JOÃO DAS MISSÕES</td>\n",
       "      <td>SAO JOAO DAS MISSOES</td>\n",
       "    </tr>\n",
       "    <tr>\n",
       "      <th>687</th>\n",
       "      <td>Norte</td>\n",
       "      <td>SÃO JOÃO DO PACUÍ</td>\n",
       "      <td>SAO JOAO DO PACUI</td>\n",
       "    </tr>\n",
       "    <tr>\n",
       "      <th>688</th>\n",
       "      <td>Norte</td>\n",
       "      <td>SÃO JOÃO DO PARAÍSO</td>\n",
       "      <td>SAO JOAO DO PARAISO</td>\n",
       "    </tr>\n",
       "    <tr>\n",
       "      <th>849</th>\n",
       "      <td>Rio Doce</td>\n",
       "      <td>SÃO JOÃO DO MANTENINHA</td>\n",
       "      <td>SAO JOAO DO MANTENINHA</td>\n",
       "    </tr>\n",
       "    <tr>\n",
       "      <th>850</th>\n",
       "      <td>Rio Doce</td>\n",
       "      <td>SÃO JOÃO DO ORIENTE</td>\n",
       "      <td>SAO JOAO DO ORIENTE</td>\n",
       "    </tr>\n",
       "    <tr>\n",
       "      <th>851</th>\n",
       "      <td>Rio Doce</td>\n",
       "      <td>SÃO JOÃO EVANGELISTA</td>\n",
       "      <td>SAO JOAO EVANGELISTA</td>\n",
       "    </tr>\n",
       "  </tbody>\n",
       "</table>\n",
       "</div>"
      ],
      "text/plain": [
       "      Nome_Regiao                   Municipio           Municipio_Tratado\n",
       "142       Central            SÃO JOÃO DEL-REI            SAO JOAO DEL-REI\n",
       "280          Mata        SÃO JOÃO DO MANHUAÇU        SAO JOAO DO MANHUACU\n",
       "281          Mata         SÃO JOÃO NEPOMUCENO         SAO JOAO NEPOMUCENO\n",
       "435  Sul de Minas  SÃO JOÃO BATISTA DO GLÓRIA  SAO JOAO BATISTA DO GLORIA\n",
       "436  Sul de Minas            SÃO JOÃO DA MATA            SAO JOAO DA MATA\n",
       "684         Norte           SÃO JOÃO DA LAGOA           SAO JOAO DA LAGOA\n",
       "685         Norte           SÃO JOÃO DA PONTE           SAO JOAO DA PONTE\n",
       "686         Norte        SÃO JOÃO DAS MISSÕES        SAO JOAO DAS MISSOES\n",
       "687         Norte           SÃO JOÃO DO PACUÍ           SAO JOAO DO PACUI\n",
       "688         Norte         SÃO JOÃO DO PARAÍSO         SAO JOAO DO PARAISO\n",
       "849      Rio Doce      SÃO JOÃO DO MANTENINHA      SAO JOAO DO MANTENINHA\n",
       "850      Rio Doce         SÃO JOÃO DO ORIENTE         SAO JOAO DO ORIENTE\n",
       "851      Rio Doce        SÃO JOÃO EVANGELISTA        SAO JOAO EVANGELISTA"
      ]
     },
     "execution_count": 37,
     "metadata": {},
     "output_type": "execute_result"
    }
   ],
   "source": [
    "df_regioes[df_regioes['Municipio_Tratado'].str.contains(\"SAO JOAO\")]"
   ]
  },
  {
   "cell_type": "markdown",
   "metadata": {},
   "source": [
    "**31.Altera o nome da cidade de SÃO JOÃO DEL-REI no dataset de histórico para manter o padrão adotado pelo dataset do governo do Estado**"
   ]
  },
  {
   "cell_type": "code",
   "execution_count": 38,
   "metadata": {},
   "outputs": [],
   "source": [
    "df.loc[(df['Municipio'] == 'SAO JOAO DEL REI'),'Municipio']  = 'SAO JOAO DEL-REI'"
   ]
  },
  {
   "cell_type": "markdown",
   "metadata": {},
   "source": [
    "**32.Verifica novamente se algum registro do dataset de histórico ainda ficou sem correspondencia**"
   ]
  },
  {
   "cell_type": "code",
   "execution_count": 39,
   "metadata": {},
   "outputs": [
    {
     "data": {
      "text/plain": [
       "<StringArray>\n",
       "[]\n",
       "Length: 0, dtype: string"
      ]
     },
     "execution_count": 39,
     "metadata": {},
     "output_type": "execute_result"
    }
   ],
   "source": [
    "df[~df['Municipio'].isin(df_regioes['Municipio_Tratado'])][\"Municipio\"].unique()"
   ]
  },
  {
   "cell_type": "markdown",
   "metadata": {},
   "source": [
    "**33.Adiciona campo de Região ao dataset de histórico**"
   ]
  },
  {
   "cell_type": "code",
   "execution_count": 40,
   "metadata": {
    "scrolled": true
   },
   "outputs": [],
   "source": [
    "df = df.merge(df_regioes, left_on='Municipio', right_on='Municipio_Tratado', how=\"left\")"
   ]
  },
  {
   "cell_type": "markdown",
   "metadata": {},
   "source": [
    "**34.Verifica se algum registro do dataset de histórico ficou sem  Região**"
   ]
  },
  {
   "cell_type": "code",
   "execution_count": 41,
   "metadata": {},
   "outputs": [
    {
     "data": {
      "text/plain": [
       "0"
      ]
     },
     "execution_count": 41,
     "metadata": {},
     "output_type": "execute_result"
    }
   ],
   "source": [
    "len(df[df['Nome_Regiao'].isnull()])"
   ]
  },
  {
   "cell_type": "markdown",
   "metadata": {},
   "source": [
    "**35.Verifica estrutura dataframe**"
   ]
  },
  {
   "cell_type": "code",
   "execution_count": 42,
   "metadata": {},
   "outputs": [
    {
     "name": "stdout",
     "output_type": "stream",
     "text": [
      "  Municipio_x     Produto Data_Coleta  Valor_Venda_Litro_Em_Reais  \\\n",
      "0     ALFENAS  DIESEL S10  2016-02-01                       3.237   \n",
      "1     ALFENAS  DIESEL S10  2016-05-02                       3.237   \n",
      "2     ALFENAS  DIESEL S10  2016-01-04                       3.197   \n",
      "3     ALFENAS  DIESEL S10  2016-04-04                       3.237   \n",
      "4     ALFENAS  DIESEL S10  2016-06-06                       3.209   \n",
      "\n",
      "   Valor_Compra_Litro_Em_Reais  Ano_Coleta  Mes_Coleta  Dia_Coleta  \\\n",
      "0                         -1.0        2016           2           1   \n",
      "1                         -1.0        2016           5           2   \n",
      "2                         -1.0        2016           1           4   \n",
      "3                         -1.0        2016           4           4   \n",
      "4                         -1.0        2016           6           6   \n",
      "\n",
      "  Mes_Ano_Coleta   Nome_Regiao Municipio_y Municipio_Tratado  \n",
      "0        2016-02  Sul de Minas     ALFENAS           ALFENAS  \n",
      "1        2016-05  Sul de Minas     ALFENAS           ALFENAS  \n",
      "2        2016-01  Sul de Minas     ALFENAS           ALFENAS  \n",
      "3        2016-04  Sul de Minas     ALFENAS           ALFENAS  \n",
      "4        2016-06  Sul de Minas     ALFENAS           ALFENAS  \n"
     ]
    }
   ],
   "source": [
    "print(df.head())"
   ]
  },
  {
   "cell_type": "markdown",
   "metadata": {},
   "source": [
    "**36.Remove colunas adicionais de município**"
   ]
  },
  {
   "cell_type": "code",
   "execution_count": 43,
   "metadata": {
    "scrolled": false
   },
   "outputs": [
    {
     "name": "stdout",
     "output_type": "stream",
     "text": [
      "      Produto Data_Coleta  Valor_Venda_Litro_Em_Reais  \\\n",
      "0  DIESEL S10  2016-02-01                       3.237   \n",
      "1  DIESEL S10  2016-05-02                       3.237   \n",
      "2  DIESEL S10  2016-01-04                       3.197   \n",
      "3  DIESEL S10  2016-04-04                       3.237   \n",
      "4  DIESEL S10  2016-06-06                       3.209   \n",
      "\n",
      "   Valor_Compra_Litro_Em_Reais  Ano_Coleta  Mes_Coleta  Dia_Coleta  \\\n",
      "0                         -1.0        2016           2           1   \n",
      "1                         -1.0        2016           5           2   \n",
      "2                         -1.0        2016           1           4   \n",
      "3                         -1.0        2016           4           4   \n",
      "4                         -1.0        2016           6           6   \n",
      "\n",
      "  Mes_Ano_Coleta   Nome_Regiao Municipio_y  \n",
      "0        2016-02  Sul de Minas     ALFENAS  \n",
      "1        2016-05  Sul de Minas     ALFENAS  \n",
      "2        2016-01  Sul de Minas     ALFENAS  \n",
      "3        2016-04  Sul de Minas     ALFENAS  \n",
      "4        2016-06  Sul de Minas     ALFENAS  \n"
     ]
    }
   ],
   "source": [
    "df.drop(['Municipio_x', 'Municipio_Tratado'], axis=1, inplace=True)\n",
    "print(df.head())\n"
   ]
  },
  {
   "cell_type": "markdown",
   "metadata": {},
   "source": [
    "**37.Renomeia coluna município restante**"
   ]
  },
  {
   "cell_type": "code",
   "execution_count": 44,
   "metadata": {},
   "outputs": [
    {
     "name": "stdout",
     "output_type": "stream",
     "text": [
      "<class 'pandas.core.frame.DataFrame'>\n",
      "Int64Index: 465446 entries, 0 to 465445\n",
      "Data columns (total 10 columns):\n",
      " #   Column                       Non-Null Count   Dtype         \n",
      "---  ------                       --------------   -----         \n",
      " 0   Produto                      465446 non-null  string        \n",
      " 1   Data_Coleta                  465446 non-null  datetime64[ns]\n",
      " 2   Valor_Venda_Litro_Em_Reais   465446 non-null  float64       \n",
      " 3   Valor_Compra_Litro_Em_Reais  465446 non-null  float64       \n",
      " 4   Ano_Coleta                   465446 non-null  int64         \n",
      " 5   Mes_Coleta                   465446 non-null  int64         \n",
      " 6   Dia_Coleta                   465446 non-null  int64         \n",
      " 7   Mes_Ano_Coleta               465446 non-null  period[M]     \n",
      " 8   Nome_Regiao                  465446 non-null  string        \n",
      " 9   Municipio                    465446 non-null  object        \n",
      "dtypes: datetime64[ns](1), float64(2), int64(3), object(1), period[M](1), string(2)\n",
      "memory usage: 39.1+ MB\n"
     ]
    }
   ],
   "source": [
    "df = df.rename({'Municipio_y': 'Municipio'}, axis=1)\n",
    "df.info()"
   ]
  },
  {
   "cell_type": "markdown",
   "metadata": {},
   "source": [
    "**38.Altera tipo da coluna município restante**"
   ]
  },
  {
   "cell_type": "code",
   "execution_count": 45,
   "metadata": {},
   "outputs": [],
   "source": [
    "df['Municipio'] = df['Municipio'].astype('string')"
   ]
  },
  {
   "cell_type": "markdown",
   "metadata": {},
   "source": [
    "**39.Salva novo dataframe em um arquivo**"
   ]
  },
  {
   "cell_type": "code",
   "execution_count": 46,
   "metadata": {},
   "outputs": [],
   "source": [
    "caminho_df_v2 = './v2'\n",
    "opcoes_zip = dict(method='zip', archive_name='historico_precos_com_regioes.csv')\n",
    "df.to_csv(os.path.join(caminho_df_v2, 'historico_precos_com_regioes.zip'), index=False, compression=opcoes_zip)\n"
   ]
  },
  {
   "cell_type": "code",
   "execution_count": 49,
   "metadata": {},
   "outputs": [
    {
     "data": {
      "text/html": [
       "<div>\n",
       "<style scoped>\n",
       "    .dataframe tbody tr th:only-of-type {\n",
       "        vertical-align: middle;\n",
       "    }\n",
       "\n",
       "    .dataframe tbody tr th {\n",
       "        vertical-align: top;\n",
       "    }\n",
       "\n",
       "    .dataframe thead th {\n",
       "        text-align: right;\n",
       "    }\n",
       "</style>\n",
       "<table border=\"1\" class=\"dataframe\">\n",
       "  <thead>\n",
       "    <tr style=\"text-align: right;\">\n",
       "      <th></th>\n",
       "      <th>Nome_Regiao</th>\n",
       "      <th>Municipio</th>\n",
       "      <th>Municipio_Tratado</th>\n",
       "    </tr>\n",
       "  </thead>\n",
       "  <tbody>\n",
       "    <tr>\n",
       "      <th>599</th>\n",
       "      <td>Noroeste</td>\n",
       "      <td>PARACATU</td>\n",
       "      <td>PARACATU</td>\n",
       "    </tr>\n",
       "  </tbody>\n",
       "</table>\n",
       "</div>"
      ],
      "text/plain": [
       "    Nome_Regiao Municipio Municipio_Tratado\n",
       "599    Noroeste  PARACATU          PARACATU"
      ]
     },
     "execution_count": 49,
     "metadata": {},
     "output_type": "execute_result"
    }
   ],
   "source": [
    "df_regioes[df_regioes[\"Municipio\"] == \"PARACATU\"]"
   ]
  }
 ],
 "metadata": {
  "kernelspec": {
   "display_name": "Python 3",
   "language": "python",
   "name": "python3"
  },
  "language_info": {
   "codemirror_mode": {
    "name": "ipython",
    "version": 3
   },
   "file_extension": ".py",
   "mimetype": "text/x-python",
   "name": "python",
   "nbconvert_exporter": "python",
   "pygments_lexer": "ipython3",
   "version": "3.8.3"
  }
 },
 "nbformat": 4,
 "nbformat_minor": 4
}
